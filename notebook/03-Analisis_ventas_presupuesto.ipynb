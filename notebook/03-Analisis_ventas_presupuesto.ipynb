{
 "cells": [
  {
   "cell_type": "code",
   "execution_count": 1,
   "id": "1355d969",
   "metadata": {},
   "outputs": [],
   "source": [
    "import pandas as pd"
   ]
  },
  {
   "cell_type": "markdown",
   "id": "c014f50f",
   "metadata": {},
   "source": [
    "## Definir carpeta de salida"
   ]
  },
  {
   "cell_type": "code",
   "execution_count": 2,
   "id": "101e395e",
   "metadata": {},
   "outputs": [],
   "source": [
    "ruta_base = r\"C:\\Users\\smp\\OneDrive - Grupo JJChicolino\\THE POWER\\PROYECTOFINALEDA\\data\\output\""
   ]
  },
  {
   "cell_type": "markdown",
   "id": "3bbca352",
   "metadata": {},
   "source": [
    "## Cargar datasets limpios"
   ]
  },
  {
   "cell_type": "code",
   "execution_count": 4,
   "id": "1f678743",
   "metadata": {},
   "outputs": [],
   "source": [
    "df2 = pd.read_csv(ruta_base + r\"\\ventas2024_limpio.csv\")       # ventas\n",
    "df3 = pd.read_excel(ruta_base + r\"\\presupuesto2024_limpio.xlsx\")  # presupuesto"
   ]
  },
  {
   "cell_type": "markdown",
   "id": "3272e161",
   "metadata": {},
   "source": [
    "##  Verificar columnas"
   ]
  },
  {
   "cell_type": "code",
   "execution_count": 5,
   "id": "b8fd5c4b",
   "metadata": {},
   "outputs": [
    {
     "name": "stdout",
     "output_type": "stream",
     "text": [
      "Ventas df2: ['codcompany', 'idcustomer', 'fecha', 'idarticle', 'quantity', 'saleamount', 'costamount', 'idpaymentmethod', 'documento', 'codcustomer', 'cliente', 'codvouchertype', 'tipoasiento', 'codproductline', 'macrofamilia', 'codproductfamily', 'familia', 'codproductsubfamily', 'subfamilia']\n",
      "Presupuesto df3: ['cod_empresa', 'cod_macrofamilia', 'macrofamilia', 'codfamila', 'familia', 'codsubfamilia', 'subfamilia', 'tipo_cliente', 'ventas_(€)', 'unidades', 'mes', 'presupuesto_mes', 'month', 'year', 'month_name']\n"
     ]
    }
   ],
   "source": [
    "print(\"Ventas df2:\", df2.columns.tolist())\n",
    "print(\"Presupuesto df3:\", df3.columns.tolist())\n",
    "\n"
   ]
  },
  {
   "cell_type": "markdown",
   "id": "8355d8bb",
   "metadata": {},
   "source": [
    "## Crear month_name en df2"
   ]
  },
  {
   "cell_type": "code",
   "execution_count": 8,
   "id": "97528ecd",
   "metadata": {},
   "outputs": [],
   "source": [
    "df2['fecha'] = pd.to_datetime(df2['fecha'], dayfirst=True)"
   ]
  },
  {
   "cell_type": "code",
   "execution_count": 9,
   "id": "b05872c3",
   "metadata": {},
   "outputs": [],
   "source": [
    "df2['year'] = df2['fecha'].dt.year\n",
    "df2['month'] = df2['fecha'].dt.month"
   ]
  },
  {
   "cell_type": "code",
   "execution_count": 10,
   "id": "a455b1e6",
   "metadata": {},
   "outputs": [],
   "source": [
    "df2['month_name'] = df2['year'].astype(str) + '-' + df2['month'].astype(str).str.zfill(2)"
   ]
  },
  {
   "cell_type": "code",
   "execution_count": 11,
   "id": "9f9b47b8",
   "metadata": {},
   "outputs": [
    {
     "data": {
      "application/vnd.microsoft.datawrangler.viewer.v0+json": {
       "columns": [
        {
         "name": "index",
         "rawType": "int64",
         "type": "integer"
        },
        {
         "name": "fecha",
         "rawType": "datetime64[ns]",
         "type": "datetime"
        },
        {
         "name": "year",
         "rawType": "int32",
         "type": "integer"
        },
        {
         "name": "month",
         "rawType": "int32",
         "type": "integer"
        },
        {
         "name": "month_name",
         "rawType": "object",
         "type": "string"
        }
       ],
       "ref": "10b0bb4d-2f1b-4812-95f8-3f180529ad19",
       "rows": [
        [
         "0",
         "2024-04-01 00:00:00",
         "2024",
         "4",
         "2024-04"
        ],
        [
         "1",
         "2024-12-31 00:00:00",
         "2024",
         "12",
         "2024-12"
        ],
        [
         "2",
         "2024-08-09 00:00:00",
         "2024",
         "8",
         "2024-08"
        ],
        [
         "3",
         "2024-04-01 00:00:00",
         "2024",
         "4",
         "2024-04"
        ],
        [
         "4",
         "2024-02-12 00:00:00",
         "2024",
         "2",
         "2024-02"
        ]
       ],
       "shape": {
        "columns": 4,
        "rows": 5
       }
      },
      "text/html": [
       "<div>\n",
       "<style scoped>\n",
       "    .dataframe tbody tr th:only-of-type {\n",
       "        vertical-align: middle;\n",
       "    }\n",
       "\n",
       "    .dataframe tbody tr th {\n",
       "        vertical-align: top;\n",
       "    }\n",
       "\n",
       "    .dataframe thead th {\n",
       "        text-align: right;\n",
       "    }\n",
       "</style>\n",
       "<table border=\"1\" class=\"dataframe\">\n",
       "  <thead>\n",
       "    <tr style=\"text-align: right;\">\n",
       "      <th></th>\n",
       "      <th>fecha</th>\n",
       "      <th>year</th>\n",
       "      <th>month</th>\n",
       "      <th>month_name</th>\n",
       "    </tr>\n",
       "  </thead>\n",
       "  <tbody>\n",
       "    <tr>\n",
       "      <th>0</th>\n",
       "      <td>2024-04-01</td>\n",
       "      <td>2024</td>\n",
       "      <td>4</td>\n",
       "      <td>2024-04</td>\n",
       "    </tr>\n",
       "    <tr>\n",
       "      <th>1</th>\n",
       "      <td>2024-12-31</td>\n",
       "      <td>2024</td>\n",
       "      <td>12</td>\n",
       "      <td>2024-12</td>\n",
       "    </tr>\n",
       "    <tr>\n",
       "      <th>2</th>\n",
       "      <td>2024-08-09</td>\n",
       "      <td>2024</td>\n",
       "      <td>8</td>\n",
       "      <td>2024-08</td>\n",
       "    </tr>\n",
       "    <tr>\n",
       "      <th>3</th>\n",
       "      <td>2024-04-01</td>\n",
       "      <td>2024</td>\n",
       "      <td>4</td>\n",
       "      <td>2024-04</td>\n",
       "    </tr>\n",
       "    <tr>\n",
       "      <th>4</th>\n",
       "      <td>2024-02-12</td>\n",
       "      <td>2024</td>\n",
       "      <td>2</td>\n",
       "      <td>2024-02</td>\n",
       "    </tr>\n",
       "  </tbody>\n",
       "</table>\n",
       "</div>"
      ],
      "text/plain": [
       "       fecha  year  month month_name\n",
       "0 2024-04-01  2024      4    2024-04\n",
       "1 2024-12-31  2024     12    2024-12\n",
       "2 2024-08-09  2024      8    2024-08\n",
       "3 2024-04-01  2024      4    2024-04\n",
       "4 2024-02-12  2024      2    2024-02"
      ]
     },
     "execution_count": 11,
     "metadata": {},
     "output_type": "execute_result"
    }
   ],
   "source": [
    "df2[['fecha', 'year', 'month', 'month_name']].head()"
   ]
  },
  {
   "cell_type": "markdown",
   "id": "cee32a62",
   "metadata": {},
   "source": [
    "## Unificar nombres de columnas\n"
   ]
  },
  {
   "cell_type": "code",
   "execution_count": 12,
   "id": "f22a8016",
   "metadata": {},
   "outputs": [],
   "source": [
    "df2.rename(columns={\n",
    "    'codcompany': 'cod_empresa',\n",
    "    'saleamount': 'ventas_(€)',\n",
    "    'quantity': 'unidades'\n",
    "}, inplace=True)"
   ]
  },
  {
   "cell_type": "code",
   "execution_count": 13,
   "id": "9e4e6ef5",
   "metadata": {},
   "outputs": [
    {
     "data": {
      "application/vnd.microsoft.datawrangler.viewer.v0+json": {
       "columns": [
        {
         "name": "index",
         "rawType": "int64",
         "type": "integer"
        },
        {
         "name": "cod_empresa",
         "rawType": "int64",
         "type": "integer"
        },
        {
         "name": "ventas_(€)",
         "rawType": "float64",
         "type": "float"
        },
        {
         "name": "unidades",
         "rawType": "float64",
         "type": "float"
        },
        {
         "name": "macrofamilia",
         "rawType": "object",
         "type": "string"
        },
        {
         "name": "familia",
         "rawType": "object",
         "type": "string"
        },
        {
         "name": "subfamilia",
         "rawType": "object",
         "type": "string"
        },
        {
         "name": "month_name",
         "rawType": "object",
         "type": "string"
        }
       ],
       "ref": "d7f44ff5-8b92-4a17-8baf-4f0ba11f847b",
       "rows": [
        [
         "0",
         "21",
         "2307.96",
         "36.0",
         "Custom Molding",
         "Formato Verde",
         "CINTURONES",
         "2024-04"
        ],
        [
         "1",
         "5",
         "53.0",
         "1.0",
         "Maquinaria y SAT",
         "Consumibles SAT",
         "REPUESTOS ECONOMY BAG",
         "2024-12"
        ],
        [
         "2",
         "21",
         "283.4",
         "10.0",
         "Marine",
         "Nautica Deportiva",
         "COMPLEMENTOS PANTALANES",
         "2024-08"
        ],
        [
         "3",
         "5",
         "0.0",
         "1.0",
         "Consumo Interno",
         "Consumo Interno y componentes",
         "CAJAS-MATERIA PRIMA - COMPONENTES",
         "2024-04"
        ],
        [
         "4",
         "5",
         "573.6",
         "0.6",
         "Envases y Embalajes",
         "Envases Madera",
         "CAIXAS RECTAS CLASICAS",
         "2024-02"
        ]
       ],
       "shape": {
        "columns": 7,
        "rows": 5
       }
      },
      "text/html": [
       "<div>\n",
       "<style scoped>\n",
       "    .dataframe tbody tr th:only-of-type {\n",
       "        vertical-align: middle;\n",
       "    }\n",
       "\n",
       "    .dataframe tbody tr th {\n",
       "        vertical-align: top;\n",
       "    }\n",
       "\n",
       "    .dataframe thead th {\n",
       "        text-align: right;\n",
       "    }\n",
       "</style>\n",
       "<table border=\"1\" class=\"dataframe\">\n",
       "  <thead>\n",
       "    <tr style=\"text-align: right;\">\n",
       "      <th></th>\n",
       "      <th>cod_empresa</th>\n",
       "      <th>ventas_(€)</th>\n",
       "      <th>unidades</th>\n",
       "      <th>macrofamilia</th>\n",
       "      <th>familia</th>\n",
       "      <th>subfamilia</th>\n",
       "      <th>month_name</th>\n",
       "    </tr>\n",
       "  </thead>\n",
       "  <tbody>\n",
       "    <tr>\n",
       "      <th>0</th>\n",
       "      <td>21</td>\n",
       "      <td>2307.96</td>\n",
       "      <td>36.0</td>\n",
       "      <td>Custom Molding</td>\n",
       "      <td>Formato Verde</td>\n",
       "      <td>CINTURONES</td>\n",
       "      <td>2024-04</td>\n",
       "    </tr>\n",
       "    <tr>\n",
       "      <th>1</th>\n",
       "      <td>5</td>\n",
       "      <td>53.00</td>\n",
       "      <td>1.0</td>\n",
       "      <td>Maquinaria y SAT</td>\n",
       "      <td>Consumibles SAT</td>\n",
       "      <td>REPUESTOS ECONOMY BAG</td>\n",
       "      <td>2024-12</td>\n",
       "    </tr>\n",
       "    <tr>\n",
       "      <th>2</th>\n",
       "      <td>21</td>\n",
       "      <td>283.40</td>\n",
       "      <td>10.0</td>\n",
       "      <td>Marine</td>\n",
       "      <td>Nautica Deportiva</td>\n",
       "      <td>COMPLEMENTOS PANTALANES</td>\n",
       "      <td>2024-08</td>\n",
       "    </tr>\n",
       "    <tr>\n",
       "      <th>3</th>\n",
       "      <td>5</td>\n",
       "      <td>0.00</td>\n",
       "      <td>1.0</td>\n",
       "      <td>Consumo Interno</td>\n",
       "      <td>Consumo Interno y componentes</td>\n",
       "      <td>CAJAS-MATERIA PRIMA - COMPONENTES</td>\n",
       "      <td>2024-04</td>\n",
       "    </tr>\n",
       "    <tr>\n",
       "      <th>4</th>\n",
       "      <td>5</td>\n",
       "      <td>573.60</td>\n",
       "      <td>0.6</td>\n",
       "      <td>Envases y Embalajes</td>\n",
       "      <td>Envases Madera</td>\n",
       "      <td>CAIXAS RECTAS CLASICAS</td>\n",
       "      <td>2024-02</td>\n",
       "    </tr>\n",
       "  </tbody>\n",
       "</table>\n",
       "</div>"
      ],
      "text/plain": [
       "   cod_empresa  ventas_(€)  unidades         macrofamilia  \\\n",
       "0           21     2307.96      36.0       Custom Molding   \n",
       "1            5       53.00       1.0     Maquinaria y SAT   \n",
       "2           21      283.40      10.0               Marine   \n",
       "3            5        0.00       1.0      Consumo Interno   \n",
       "4            5      573.60       0.6  Envases y Embalajes   \n",
       "\n",
       "                         familia                         subfamilia month_name  \n",
       "0                  Formato Verde                         CINTURONES    2024-04  \n",
       "1                Consumibles SAT              REPUESTOS ECONOMY BAG    2024-12  \n",
       "2              Nautica Deportiva            COMPLEMENTOS PANTALANES    2024-08  \n",
       "3  Consumo Interno y componentes  CAJAS-MATERIA PRIMA - COMPONENTES    2024-04  \n",
       "4                 Envases Madera             CAIXAS RECTAS CLASICAS    2024-02  "
      ]
     },
     "execution_count": 13,
     "metadata": {},
     "output_type": "execute_result"
    }
   ],
   "source": [
    "df2[['cod_empresa', 'ventas_(€)', 'unidades', 'macrofamilia', 'familia', 'subfamilia', 'month_name']].head()"
   ]
  },
  {
   "cell_type": "markdown",
   "id": "a7c00b52",
   "metadata": {},
   "source": [
    "## Merge de df2 (ventas) con df3 (presupuesto)"
   ]
  },
  {
   "cell_type": "code",
   "execution_count": 34,
   "id": "cf3144a2",
   "metadata": {},
   "outputs": [],
   "source": [
    "df_final = pd.merge(\n",
    "    df2,\n",
    "    df3[['cod_empresa', 'subfamilia', 'presupuesto_mes']],\n",
    "    how='left',  # mantener todas las ventas\n",
    "    on=['cod_empresa', 'subfamilia']\n",
    ")"
   ]
  },
  {
   "cell_type": "code",
   "execution_count": 35,
   "id": "9b01e4f2",
   "metadata": {},
   "outputs": [
    {
     "name": "stdout",
     "output_type": "stream",
     "text": [
      "<class 'pandas.core.frame.DataFrame'>\n",
      "RangeIndex: 4835 entries, 0 to 4834\n",
      "Data columns (total 23 columns):\n",
      " #   Column               Non-Null Count  Dtype         \n",
      "---  ------               --------------  -----         \n",
      " 0   cod_empresa          4835 non-null   int64         \n",
      " 1   idcustomer           4835 non-null   object        \n",
      " 2   fecha                4835 non-null   datetime64[ns]\n",
      " 3   idarticle            4835 non-null   object        \n",
      " 4   unidades             4835 non-null   float64       \n",
      " 5   ventas_(€)           4835 non-null   float64       \n",
      " 6   costamount           4835 non-null   float64       \n",
      " 7   idpaymentmethod      4835 non-null   object        \n",
      " 8   documento            4835 non-null   object        \n",
      " 9   codcustomer          4835 non-null   int64         \n",
      " 10  cliente              4835 non-null   object        \n",
      " 11  codvouchertype       4835 non-null   int64         \n",
      " 12  tipoasiento          4835 non-null   object        \n",
      " 13  codproductline       4835 non-null   object        \n",
      " 14  macrofamilia         4835 non-null   object        \n",
      " 15  codproductfamily     4835 non-null   object        \n",
      " 16  familia              4835 non-null   object        \n",
      " 17  codproductsubfamily  4835 non-null   object        \n",
      " 18  subfamilia           4835 non-null   object        \n",
      " 19  year                 4835 non-null   int32         \n",
      " 20  month                4835 non-null   int32         \n",
      " 21  month_name           4835 non-null   object        \n",
      " 22  presupuesto_mes      4812 non-null   float64       \n",
      "dtypes: datetime64[ns](1), float64(4), int32(2), int64(3), object(13)\n",
      "memory usage: 831.1+ KB\n"
     ]
    }
   ],
   "source": [
    "df_final.head()\n",
    "df_final.info()"
   ]
  },
  {
   "cell_type": "markdown",
   "id": "6bfb55b5",
   "metadata": {},
   "source": [
    "## Crear métricas adicionales\n",
    "-Diferencia entre ventas y presupuesto\n",
    "\n",
    "-Ratio ventas / presupuesto\n"
   ]
  },
  {
   "cell_type": "code",
   "execution_count": 36,
   "id": "a0fb810f",
   "metadata": {},
   "outputs": [],
   "source": [
    "df_final['dif_ventas_presupuesto'] = df_final['ventas_(€)'] - df_final['presupuesto_mes']"
   ]
  },
  {
   "cell_type": "code",
   "execution_count": 37,
   "id": "9922f63c",
   "metadata": {},
   "outputs": [],
   "source": [
    "df_final['ratio_ventas_presupuesto'] = df_final['ventas_(€)'] / df_final['presupuesto_mes']"
   ]
  },
  {
   "cell_type": "markdown",
   "id": "a4b3c599",
   "metadata": {},
   "source": [
    "## Guardar dataset final"
   ]
  },
  {
   "cell_type": "code",
   "execution_count": 38,
   "id": "6328822d",
   "metadata": {},
   "outputs": [],
   "source": [
    "import os"
   ]
  },
  {
   "cell_type": "code",
   "execution_count": 39,
   "id": "5ccfa8ac",
   "metadata": {},
   "outputs": [],
   "source": [
    "ruta_final = r\"C:\\Users\\smp\\OneDrive - Grupo JJChicolino\\THE POWER\\PROYECTOFINALEDA\\data\\output\\final\"\n",
    "os.makedirs(ruta_final, exist_ok=True)"
   ]
  },
  {
   "cell_type": "code",
   "execution_count": 40,
   "id": "84e211be",
   "metadata": {},
   "outputs": [],
   "source": [
    "df_final.to_csv(ruta_final + r\"\\df_final_para_powerbi.csv\", index=False)"
   ]
  },
  {
   "cell_type": "markdown",
   "id": "fa402f3e",
   "metadata": {},
   "source": [
    "## Revisar columnas y tipos de datos"
   ]
  },
  {
   "cell_type": "code",
   "execution_count": 41,
   "id": "54f343e7",
   "metadata": {},
   "outputs": [
    {
     "name": "stdout",
     "output_type": "stream",
     "text": [
      "<class 'pandas.core.frame.DataFrame'>\n",
      "RangeIndex: 4835 entries, 0 to 4834\n",
      "Data columns (total 25 columns):\n",
      " #   Column                    Non-Null Count  Dtype         \n",
      "---  ------                    --------------  -----         \n",
      " 0   cod_empresa               4835 non-null   int64         \n",
      " 1   idcustomer                4835 non-null   object        \n",
      " 2   fecha                     4835 non-null   datetime64[ns]\n",
      " 3   idarticle                 4835 non-null   object        \n",
      " 4   unidades                  4835 non-null   float64       \n",
      " 5   ventas_(€)                4835 non-null   float64       \n",
      " 6   costamount                4835 non-null   float64       \n",
      " 7   idpaymentmethod           4835 non-null   object        \n",
      " 8   documento                 4835 non-null   object        \n",
      " 9   codcustomer               4835 non-null   int64         \n",
      " 10  cliente                   4835 non-null   object        \n",
      " 11  codvouchertype            4835 non-null   int64         \n",
      " 12  tipoasiento               4835 non-null   object        \n",
      " 13  codproductline            4835 non-null   object        \n",
      " 14  macrofamilia              4835 non-null   object        \n",
      " 15  codproductfamily          4835 non-null   object        \n",
      " 16  familia                   4835 non-null   object        \n",
      " 17  codproductsubfamily       4835 non-null   object        \n",
      " 18  subfamilia                4835 non-null   object        \n",
      " 19  year                      4835 non-null   int32         \n",
      " 20  month                     4835 non-null   int32         \n",
      " 21  month_name                4835 non-null   object        \n",
      " 22  presupuesto_mes           4812 non-null   float64       \n",
      " 23  dif_ventas_presupuesto    4812 non-null   float64       \n",
      " 24  ratio_ventas_presupuesto  4812 non-null   float64       \n",
      "dtypes: datetime64[ns](1), float64(6), int32(2), int64(3), object(13)\n",
      "memory usage: 906.7+ KB\n"
     ]
    },
    {
     "data": {
      "application/vnd.microsoft.datawrangler.viewer.v0+json": {
       "columns": [
        {
         "name": "index",
         "rawType": "int64",
         "type": "integer"
        },
        {
         "name": "cod_empresa",
         "rawType": "int64",
         "type": "integer"
        },
        {
         "name": "idcustomer",
         "rawType": "object",
         "type": "string"
        },
        {
         "name": "fecha",
         "rawType": "datetime64[ns]",
         "type": "datetime"
        },
        {
         "name": "idarticle",
         "rawType": "object",
         "type": "string"
        },
        {
         "name": "unidades",
         "rawType": "float64",
         "type": "float"
        },
        {
         "name": "ventas_(€)",
         "rawType": "float64",
         "type": "float"
        },
        {
         "name": "costamount",
         "rawType": "float64",
         "type": "float"
        },
        {
         "name": "idpaymentmethod",
         "rawType": "object",
         "type": "string"
        },
        {
         "name": "documento",
         "rawType": "object",
         "type": "string"
        },
        {
         "name": "codcustomer",
         "rawType": "int64",
         "type": "integer"
        },
        {
         "name": "cliente",
         "rawType": "object",
         "type": "string"
        },
        {
         "name": "codvouchertype",
         "rawType": "int64",
         "type": "integer"
        },
        {
         "name": "tipoasiento",
         "rawType": "object",
         "type": "string"
        },
        {
         "name": "codproductline",
         "rawType": "object",
         "type": "string"
        },
        {
         "name": "macrofamilia",
         "rawType": "object",
         "type": "string"
        },
        {
         "name": "codproductfamily",
         "rawType": "object",
         "type": "string"
        },
        {
         "name": "familia",
         "rawType": "object",
         "type": "string"
        },
        {
         "name": "codproductsubfamily",
         "rawType": "object",
         "type": "string"
        },
        {
         "name": "subfamilia",
         "rawType": "object",
         "type": "string"
        },
        {
         "name": "year",
         "rawType": "int32",
         "type": "integer"
        },
        {
         "name": "month",
         "rawType": "int32",
         "type": "integer"
        },
        {
         "name": "month_name",
         "rawType": "object",
         "type": "string"
        },
        {
         "name": "presupuesto_mes",
         "rawType": "float64",
         "type": "float"
        },
        {
         "name": "dif_ventas_presupuesto",
         "rawType": "float64",
         "type": "float"
        },
        {
         "name": "ratio_ventas_presupuesto",
         "rawType": "float64",
         "type": "float"
        }
       ],
       "ref": "eb50518c-f3b0-4cb9-9087-d92f74ad6014",
       "rows": [
        [
         "0",
         "21",
         "021-006150",
         "2024-04-01 00:00:00",
         "915e1ba0-a1e7-4875-9cff-5cc30e901d80",
         "36.0",
         "2307.96",
         "2476.8",
         "021-91",
         "24A040006",
         "6150",
         "FORMATO VERDE; S,L,",
         "10",
         "VENTAS NACIONALES",
         "MFR01",
         "Custom Molding",
         "FR01A",
         "Formato Verde",
         "CA2",
         "CINTURONES",
         "2024",
         "4",
         "2024-04",
         "0.08228616827156605",
         "2307.8777138317287",
         "28047.97025404225"
        ],
        [
         "1",
         "21",
         "021-006150",
         "2024-04-01 00:00:00",
         "915e1ba0-a1e7-4875-9cff-5cc30e901d80",
         "36.0",
         "2307.96",
         "2476.8",
         "021-91",
         "24A040006",
         "6150",
         "FORMATO VERDE; S,L,",
         "10",
         "VENTAS NACIONALES",
         "MFR01",
         "Custom Molding",
         "FR01A",
         "Formato Verde",
         "CA2",
         "CINTURONES",
         "2024",
         "4",
         "2024-04",
         "0.08364729669052161",
         "2307.8763527033093",
         "27591.567107530012"
        ],
        [
         "2",
         "21",
         "021-006150",
         "2024-04-01 00:00:00",
         "915e1ba0-a1e7-4875-9cff-5cc30e901d80",
         "36.0",
         "2307.96",
         "2476.8",
         "021-91",
         "24A040006",
         "6150",
         "FORMATO VERDE; S,L,",
         "10",
         "VENTAS NACIONALES",
         "MFR01",
         "Custom Molding",
         "FR01A",
         "Formato Verde",
         "CA2",
         "CINTURONES",
         "2024",
         "4",
         "2024-04",
         "0.0769884278042071",
         "2307.8830115721958",
         "29978.011836655267"
        ],
        [
         "3",
         "21",
         "021-006150",
         "2024-04-01 00:00:00",
         "915e1ba0-a1e7-4875-9cff-5cc30e901d80",
         "36.0",
         "2307.96",
         "2476.8",
         "021-91",
         "24A040006",
         "6150",
         "FORMATO VERDE; S,L,",
         "10",
         "VENTAS NACIONALES",
         "MFR01",
         "Custom Molding",
         "FR01A",
         "Formato Verde",
         "CA2",
         "CINTURONES",
         "2024",
         "4",
         "2024-04",
         "0.07086835499256783",
         "2307.8891316450076",
         "32566.862886009454"
        ],
        [
         "4",
         "21",
         "021-006150",
         "2024-04-01 00:00:00",
         "915e1ba0-a1e7-4875-9cff-5cc30e901d80",
         "36.0",
         "2307.96",
         "2476.8",
         "021-91",
         "24A040006",
         "6150",
         "FORMATO VERDE; S,L,",
         "10",
         "VENTAS NACIONALES",
         "MFR01",
         "Custom Molding",
         "FR01A",
         "Formato Verde",
         "CA2",
         "CINTURONES",
         "2024",
         "4",
         "2024-04",
         "0.07018284232316618",
         "2307.889817157677",
         "32884.960534551916"
        ]
       ],
       "shape": {
        "columns": 25,
        "rows": 5
       }
      },
      "text/html": [
       "<div>\n",
       "<style scoped>\n",
       "    .dataframe tbody tr th:only-of-type {\n",
       "        vertical-align: middle;\n",
       "    }\n",
       "\n",
       "    .dataframe tbody tr th {\n",
       "        vertical-align: top;\n",
       "    }\n",
       "\n",
       "    .dataframe thead th {\n",
       "        text-align: right;\n",
       "    }\n",
       "</style>\n",
       "<table border=\"1\" class=\"dataframe\">\n",
       "  <thead>\n",
       "    <tr style=\"text-align: right;\">\n",
       "      <th></th>\n",
       "      <th>cod_empresa</th>\n",
       "      <th>idcustomer</th>\n",
       "      <th>fecha</th>\n",
       "      <th>idarticle</th>\n",
       "      <th>unidades</th>\n",
       "      <th>ventas_(€)</th>\n",
       "      <th>costamount</th>\n",
       "      <th>idpaymentmethod</th>\n",
       "      <th>documento</th>\n",
       "      <th>codcustomer</th>\n",
       "      <th>...</th>\n",
       "      <th>codproductfamily</th>\n",
       "      <th>familia</th>\n",
       "      <th>codproductsubfamily</th>\n",
       "      <th>subfamilia</th>\n",
       "      <th>year</th>\n",
       "      <th>month</th>\n",
       "      <th>month_name</th>\n",
       "      <th>presupuesto_mes</th>\n",
       "      <th>dif_ventas_presupuesto</th>\n",
       "      <th>ratio_ventas_presupuesto</th>\n",
       "    </tr>\n",
       "  </thead>\n",
       "  <tbody>\n",
       "    <tr>\n",
       "      <th>0</th>\n",
       "      <td>21</td>\n",
       "      <td>021-006150</td>\n",
       "      <td>2024-04-01</td>\n",
       "      <td>915e1ba0-a1e7-4875-9cff-5cc30e901d80</td>\n",
       "      <td>36.0</td>\n",
       "      <td>2307.96</td>\n",
       "      <td>2476.8</td>\n",
       "      <td>021-91</td>\n",
       "      <td>24A040006</td>\n",
       "      <td>6150</td>\n",
       "      <td>...</td>\n",
       "      <td>FR01A</td>\n",
       "      <td>Formato Verde</td>\n",
       "      <td>CA2</td>\n",
       "      <td>CINTURONES</td>\n",
       "      <td>2024</td>\n",
       "      <td>4</td>\n",
       "      <td>2024-04</td>\n",
       "      <td>0.082286</td>\n",
       "      <td>2307.877714</td>\n",
       "      <td>28047.970254</td>\n",
       "    </tr>\n",
       "    <tr>\n",
       "      <th>1</th>\n",
       "      <td>21</td>\n",
       "      <td>021-006150</td>\n",
       "      <td>2024-04-01</td>\n",
       "      <td>915e1ba0-a1e7-4875-9cff-5cc30e901d80</td>\n",
       "      <td>36.0</td>\n",
       "      <td>2307.96</td>\n",
       "      <td>2476.8</td>\n",
       "      <td>021-91</td>\n",
       "      <td>24A040006</td>\n",
       "      <td>6150</td>\n",
       "      <td>...</td>\n",
       "      <td>FR01A</td>\n",
       "      <td>Formato Verde</td>\n",
       "      <td>CA2</td>\n",
       "      <td>CINTURONES</td>\n",
       "      <td>2024</td>\n",
       "      <td>4</td>\n",
       "      <td>2024-04</td>\n",
       "      <td>0.083647</td>\n",
       "      <td>2307.876353</td>\n",
       "      <td>27591.567108</td>\n",
       "    </tr>\n",
       "    <tr>\n",
       "      <th>2</th>\n",
       "      <td>21</td>\n",
       "      <td>021-006150</td>\n",
       "      <td>2024-04-01</td>\n",
       "      <td>915e1ba0-a1e7-4875-9cff-5cc30e901d80</td>\n",
       "      <td>36.0</td>\n",
       "      <td>2307.96</td>\n",
       "      <td>2476.8</td>\n",
       "      <td>021-91</td>\n",
       "      <td>24A040006</td>\n",
       "      <td>6150</td>\n",
       "      <td>...</td>\n",
       "      <td>FR01A</td>\n",
       "      <td>Formato Verde</td>\n",
       "      <td>CA2</td>\n",
       "      <td>CINTURONES</td>\n",
       "      <td>2024</td>\n",
       "      <td>4</td>\n",
       "      <td>2024-04</td>\n",
       "      <td>0.076988</td>\n",
       "      <td>2307.883012</td>\n",
       "      <td>29978.011837</td>\n",
       "    </tr>\n",
       "    <tr>\n",
       "      <th>3</th>\n",
       "      <td>21</td>\n",
       "      <td>021-006150</td>\n",
       "      <td>2024-04-01</td>\n",
       "      <td>915e1ba0-a1e7-4875-9cff-5cc30e901d80</td>\n",
       "      <td>36.0</td>\n",
       "      <td>2307.96</td>\n",
       "      <td>2476.8</td>\n",
       "      <td>021-91</td>\n",
       "      <td>24A040006</td>\n",
       "      <td>6150</td>\n",
       "      <td>...</td>\n",
       "      <td>FR01A</td>\n",
       "      <td>Formato Verde</td>\n",
       "      <td>CA2</td>\n",
       "      <td>CINTURONES</td>\n",
       "      <td>2024</td>\n",
       "      <td>4</td>\n",
       "      <td>2024-04</td>\n",
       "      <td>0.070868</td>\n",
       "      <td>2307.889132</td>\n",
       "      <td>32566.862886</td>\n",
       "    </tr>\n",
       "    <tr>\n",
       "      <th>4</th>\n",
       "      <td>21</td>\n",
       "      <td>021-006150</td>\n",
       "      <td>2024-04-01</td>\n",
       "      <td>915e1ba0-a1e7-4875-9cff-5cc30e901d80</td>\n",
       "      <td>36.0</td>\n",
       "      <td>2307.96</td>\n",
       "      <td>2476.8</td>\n",
       "      <td>021-91</td>\n",
       "      <td>24A040006</td>\n",
       "      <td>6150</td>\n",
       "      <td>...</td>\n",
       "      <td>FR01A</td>\n",
       "      <td>Formato Verde</td>\n",
       "      <td>CA2</td>\n",
       "      <td>CINTURONES</td>\n",
       "      <td>2024</td>\n",
       "      <td>4</td>\n",
       "      <td>2024-04</td>\n",
       "      <td>0.070183</td>\n",
       "      <td>2307.889817</td>\n",
       "      <td>32884.960535</td>\n",
       "    </tr>\n",
       "  </tbody>\n",
       "</table>\n",
       "<p>5 rows × 25 columns</p>\n",
       "</div>"
      ],
      "text/plain": [
       "   cod_empresa  idcustomer      fecha                             idarticle  \\\n",
       "0           21  021-006150 2024-04-01  915e1ba0-a1e7-4875-9cff-5cc30e901d80   \n",
       "1           21  021-006150 2024-04-01  915e1ba0-a1e7-4875-9cff-5cc30e901d80   \n",
       "2           21  021-006150 2024-04-01  915e1ba0-a1e7-4875-9cff-5cc30e901d80   \n",
       "3           21  021-006150 2024-04-01  915e1ba0-a1e7-4875-9cff-5cc30e901d80   \n",
       "4           21  021-006150 2024-04-01  915e1ba0-a1e7-4875-9cff-5cc30e901d80   \n",
       "\n",
       "   unidades  ventas_(€)  costamount idpaymentmethod  documento  codcustomer  \\\n",
       "0      36.0     2307.96      2476.8          021-91  24A040006         6150   \n",
       "1      36.0     2307.96      2476.8          021-91  24A040006         6150   \n",
       "2      36.0     2307.96      2476.8          021-91  24A040006         6150   \n",
       "3      36.0     2307.96      2476.8          021-91  24A040006         6150   \n",
       "4      36.0     2307.96      2476.8          021-91  24A040006         6150   \n",
       "\n",
       "   ... codproductfamily        familia codproductsubfamily  subfamilia  year  \\\n",
       "0  ...            FR01A  Formato Verde                 CA2  CINTURONES  2024   \n",
       "1  ...            FR01A  Formato Verde                 CA2  CINTURONES  2024   \n",
       "2  ...            FR01A  Formato Verde                 CA2  CINTURONES  2024   \n",
       "3  ...            FR01A  Formato Verde                 CA2  CINTURONES  2024   \n",
       "4  ...            FR01A  Formato Verde                 CA2  CINTURONES  2024   \n",
       "\n",
       "  month month_name presupuesto_mes dif_ventas_presupuesto  \\\n",
       "0     4    2024-04        0.082286            2307.877714   \n",
       "1     4    2024-04        0.083647            2307.876353   \n",
       "2     4    2024-04        0.076988            2307.883012   \n",
       "3     4    2024-04        0.070868            2307.889132   \n",
       "4     4    2024-04        0.070183            2307.889817   \n",
       "\n",
       "   ratio_ventas_presupuesto  \n",
       "0              28047.970254  \n",
       "1              27591.567108  \n",
       "2              29978.011837  \n",
       "3              32566.862886  \n",
       "4              32884.960535  \n",
       "\n",
       "[5 rows x 25 columns]"
      ]
     },
     "execution_count": 41,
     "metadata": {},
     "output_type": "execute_result"
    }
   ],
   "source": [
    "df_final.info()  # Tipos de datos y nulos\n",
    "df_final.head()  # Primeras filas para ver estructura"
   ]
  },
  {
   "cell_type": "markdown",
   "id": "758f0ac0",
   "metadata": {},
   "source": [
    "## Comprobar valores nulos por columna"
   ]
  },
  {
   "cell_type": "code",
   "execution_count": 42,
   "id": "6cc575af",
   "metadata": {},
   "outputs": [
    {
     "name": "stdout",
     "output_type": "stream",
     "text": [
      "presupuesto_mes             23\n",
      "dif_ventas_presupuesto      23\n",
      "ratio_ventas_presupuesto    23\n",
      "dtype: int64\n"
     ]
    }
   ],
   "source": [
    "nulos = df_final.isnull().sum()\n",
    "print(nulos[nulos > 0])  # Solo mostrar columnas con nulos"
   ]
  },
  {
   "cell_type": "markdown",
   "id": "aebc3ddd",
   "metadata": {},
   "source": [
    "## Comprobar duplicados"
   ]
  },
  {
   "cell_type": "code",
   "execution_count": 43,
   "id": "23fc0699",
   "metadata": {},
   "outputs": [
    {
     "name": "stdout",
     "output_type": "stream",
     "text": [
      "Número de duplicados: 4640\n"
     ]
    }
   ],
   "source": [
    "duplicados = df_final.duplicated(subset=['cod_empresa', 'idarticle', 'fecha'])\n",
    "print(\"Número de duplicados:\", duplicados.sum())"
   ]
  },
  {
   "cell_type": "markdown",
   "id": "a698b203",
   "metadata": {},
   "source": [
    "## Estadísticas descriptivas de las columnas numéricas"
   ]
  },
  {
   "cell_type": "code",
   "execution_count": 44,
   "id": "3eed5a95",
   "metadata": {},
   "outputs": [
    {
     "data": {
      "application/vnd.microsoft.datawrangler.viewer.v0+json": {
       "columns": [
        {
         "name": "index",
         "rawType": "object",
         "type": "string"
        },
        {
         "name": "cod_empresa",
         "rawType": "float64",
         "type": "float"
        },
        {
         "name": "fecha",
         "rawType": "object",
         "type": "unknown"
        },
        {
         "name": "unidades",
         "rawType": "float64",
         "type": "float"
        },
        {
         "name": "ventas_(€)",
         "rawType": "float64",
         "type": "float"
        },
        {
         "name": "costamount",
         "rawType": "float64",
         "type": "float"
        },
        {
         "name": "codcustomer",
         "rawType": "float64",
         "type": "float"
        },
        {
         "name": "codvouchertype",
         "rawType": "float64",
         "type": "float"
        },
        {
         "name": "year",
         "rawType": "float64",
         "type": "float"
        },
        {
         "name": "month",
         "rawType": "float64",
         "type": "float"
        },
        {
         "name": "presupuesto_mes",
         "rawType": "float64",
         "type": "float"
        },
        {
         "name": "dif_ventas_presupuesto",
         "rawType": "float64",
         "type": "float"
        },
        {
         "name": "ratio_ventas_presupuesto",
         "rawType": "float64",
         "type": "float"
        }
       ],
       "ref": "f2974db1-aabe-4f4c-9d3a-ce7c0fe14b93",
       "rows": [
        [
         "count",
         "4835.0",
         "4835",
         "4835.0",
         "4835.0",
         "4835.0",
         "4835.0",
         "4835.0",
         "4835.0",
         "4835.0",
         "4812.0",
         "4812.0",
         "4812.0"
        ],
        [
         "mean",
         "10.046535677352637",
         "2024-07-18 03:10:54.477766400",
         "33.85722109617373",
         "1148.4515822130302",
         "948.5190208049637",
         "5698.590899689762",
         "10.221509824198552",
         "2024.0",
         "6.954912099276112",
         "0.08333333333333333",
         "1155.1635494596842",
         "20744.10565988344"
        ],
        [
         "min",
         "1.0",
         "2024-01-05 00:00:00",
         "-133.0",
         "-8379.0",
         "-8379.0",
         "376.0",
         "10.0",
         "2024.0",
         "1.0",
         "0.001384640468064515",
         "-194.17141807815537",
         "-7748.210036452336"
        ],
        [
         "25%",
         "5.0",
         "2024-04-15 00:00:00",
         "1.0",
         "0.0",
         "2.39378",
         "3623.0",
         "10.0",
         "2024.0",
         "4.0",
         "0.05634761012832711",
         "-0.04514452317085375",
         "0.0"
        ],
        [
         "50%",
         "5.0",
         "2024-08-01 00:00:00",
         "1.25",
         "63.1",
         "31.61916",
         "6195.0",
         "10.0",
         "2024.0",
         "8.0",
         "0.08210800174676211",
         "62.977872506069374",
         "943.3370181653455"
        ],
        [
         "75%",
         "21.0",
         "2024-10-10 00:00:00",
         "5.0",
         "304.82",
         "164.86",
         "7730.0",
         "10.0",
         "2024.0",
         "10.0",
         "0.08929989996360381",
         "304.7423490948926",
         "4808.248667392747"
        ],
        [
         "max",
         "21.0",
         "2024-12-31 00:00:00",
         "6111.0",
         "69152.99",
         "69152.99",
         "8777.0",
         "30.0",
         "2024.0",
         "12.0",
         "0.7426255648321185",
         "69152.90666666668",
         "9803886.728643617"
        ],
        [
         "std",
         "7.968500894815379",
         null,
         "311.3835128595407",
         "5840.261172828634",
         "5566.346836334031",
         "2312.025145995088",
         "1.4453041948375753",
         "0.0",
         "3.495909627024584",
         "0.05904244141278095",
         "5852.149384956922",
         "178118.70417572552"
        ]
       ],
       "shape": {
        "columns": 12,
        "rows": 8
       }
      },
      "text/html": [
       "<div>\n",
       "<style scoped>\n",
       "    .dataframe tbody tr th:only-of-type {\n",
       "        vertical-align: middle;\n",
       "    }\n",
       "\n",
       "    .dataframe tbody tr th {\n",
       "        vertical-align: top;\n",
       "    }\n",
       "\n",
       "    .dataframe thead th {\n",
       "        text-align: right;\n",
       "    }\n",
       "</style>\n",
       "<table border=\"1\" class=\"dataframe\">\n",
       "  <thead>\n",
       "    <tr style=\"text-align: right;\">\n",
       "      <th></th>\n",
       "      <th>cod_empresa</th>\n",
       "      <th>fecha</th>\n",
       "      <th>unidades</th>\n",
       "      <th>ventas_(€)</th>\n",
       "      <th>costamount</th>\n",
       "      <th>codcustomer</th>\n",
       "      <th>codvouchertype</th>\n",
       "      <th>year</th>\n",
       "      <th>month</th>\n",
       "      <th>presupuesto_mes</th>\n",
       "      <th>dif_ventas_presupuesto</th>\n",
       "      <th>ratio_ventas_presupuesto</th>\n",
       "    </tr>\n",
       "  </thead>\n",
       "  <tbody>\n",
       "    <tr>\n",
       "      <th>count</th>\n",
       "      <td>4835.000000</td>\n",
       "      <td>4835</td>\n",
       "      <td>4835.000000</td>\n",
       "      <td>4835.000000</td>\n",
       "      <td>4835.000000</td>\n",
       "      <td>4835.000000</td>\n",
       "      <td>4835.000000</td>\n",
       "      <td>4835.0</td>\n",
       "      <td>4835.000000</td>\n",
       "      <td>4812.000000</td>\n",
       "      <td>4812.000000</td>\n",
       "      <td>4.812000e+03</td>\n",
       "    </tr>\n",
       "    <tr>\n",
       "      <th>mean</th>\n",
       "      <td>10.046536</td>\n",
       "      <td>2024-07-18 03:10:54.477766400</td>\n",
       "      <td>33.857221</td>\n",
       "      <td>1148.451582</td>\n",
       "      <td>948.519021</td>\n",
       "      <td>5698.590900</td>\n",
       "      <td>10.221510</td>\n",
       "      <td>2024.0</td>\n",
       "      <td>6.954912</td>\n",
       "      <td>0.083333</td>\n",
       "      <td>1155.163549</td>\n",
       "      <td>2.074411e+04</td>\n",
       "    </tr>\n",
       "    <tr>\n",
       "      <th>min</th>\n",
       "      <td>1.000000</td>\n",
       "      <td>2024-01-05 00:00:00</td>\n",
       "      <td>-133.000000</td>\n",
       "      <td>-8379.000000</td>\n",
       "      <td>-8379.000000</td>\n",
       "      <td>376.000000</td>\n",
       "      <td>10.000000</td>\n",
       "      <td>2024.0</td>\n",
       "      <td>1.000000</td>\n",
       "      <td>0.001385</td>\n",
       "      <td>-194.171418</td>\n",
       "      <td>-7.748210e+03</td>\n",
       "    </tr>\n",
       "    <tr>\n",
       "      <th>25%</th>\n",
       "      <td>5.000000</td>\n",
       "      <td>2024-04-15 00:00:00</td>\n",
       "      <td>1.000000</td>\n",
       "      <td>0.000000</td>\n",
       "      <td>2.393780</td>\n",
       "      <td>3623.000000</td>\n",
       "      <td>10.000000</td>\n",
       "      <td>2024.0</td>\n",
       "      <td>4.000000</td>\n",
       "      <td>0.056348</td>\n",
       "      <td>-0.045145</td>\n",
       "      <td>0.000000e+00</td>\n",
       "    </tr>\n",
       "    <tr>\n",
       "      <th>50%</th>\n",
       "      <td>5.000000</td>\n",
       "      <td>2024-08-01 00:00:00</td>\n",
       "      <td>1.250000</td>\n",
       "      <td>63.100000</td>\n",
       "      <td>31.619160</td>\n",
       "      <td>6195.000000</td>\n",
       "      <td>10.000000</td>\n",
       "      <td>2024.0</td>\n",
       "      <td>8.000000</td>\n",
       "      <td>0.082108</td>\n",
       "      <td>62.977873</td>\n",
       "      <td>9.433370e+02</td>\n",
       "    </tr>\n",
       "    <tr>\n",
       "      <th>75%</th>\n",
       "      <td>21.000000</td>\n",
       "      <td>2024-10-10 00:00:00</td>\n",
       "      <td>5.000000</td>\n",
       "      <td>304.820000</td>\n",
       "      <td>164.860000</td>\n",
       "      <td>7730.000000</td>\n",
       "      <td>10.000000</td>\n",
       "      <td>2024.0</td>\n",
       "      <td>10.000000</td>\n",
       "      <td>0.089300</td>\n",
       "      <td>304.742349</td>\n",
       "      <td>4.808249e+03</td>\n",
       "    </tr>\n",
       "    <tr>\n",
       "      <th>max</th>\n",
       "      <td>21.000000</td>\n",
       "      <td>2024-12-31 00:00:00</td>\n",
       "      <td>6111.000000</td>\n",
       "      <td>69152.990000</td>\n",
       "      <td>69152.990000</td>\n",
       "      <td>8777.000000</td>\n",
       "      <td>30.000000</td>\n",
       "      <td>2024.0</td>\n",
       "      <td>12.000000</td>\n",
       "      <td>0.742626</td>\n",
       "      <td>69152.906667</td>\n",
       "      <td>9.803887e+06</td>\n",
       "    </tr>\n",
       "    <tr>\n",
       "      <th>std</th>\n",
       "      <td>7.968501</td>\n",
       "      <td>NaN</td>\n",
       "      <td>311.383513</td>\n",
       "      <td>5840.261173</td>\n",
       "      <td>5566.346836</td>\n",
       "      <td>2312.025146</td>\n",
       "      <td>1.445304</td>\n",
       "      <td>0.0</td>\n",
       "      <td>3.495910</td>\n",
       "      <td>0.059042</td>\n",
       "      <td>5852.149385</td>\n",
       "      <td>1.781187e+05</td>\n",
       "    </tr>\n",
       "  </tbody>\n",
       "</table>\n",
       "</div>"
      ],
      "text/plain": [
       "       cod_empresa                          fecha     unidades    ventas_(€)  \\\n",
       "count  4835.000000                           4835  4835.000000   4835.000000   \n",
       "mean     10.046536  2024-07-18 03:10:54.477766400    33.857221   1148.451582   \n",
       "min       1.000000            2024-01-05 00:00:00  -133.000000  -8379.000000   \n",
       "25%       5.000000            2024-04-15 00:00:00     1.000000      0.000000   \n",
       "50%       5.000000            2024-08-01 00:00:00     1.250000     63.100000   \n",
       "75%      21.000000            2024-10-10 00:00:00     5.000000    304.820000   \n",
       "max      21.000000            2024-12-31 00:00:00  6111.000000  69152.990000   \n",
       "std       7.968501                            NaN   311.383513   5840.261173   \n",
       "\n",
       "         costamount  codcustomer  codvouchertype    year        month  \\\n",
       "count   4835.000000  4835.000000     4835.000000  4835.0  4835.000000   \n",
       "mean     948.519021  5698.590900       10.221510  2024.0     6.954912   \n",
       "min    -8379.000000   376.000000       10.000000  2024.0     1.000000   \n",
       "25%        2.393780  3623.000000       10.000000  2024.0     4.000000   \n",
       "50%       31.619160  6195.000000       10.000000  2024.0     8.000000   \n",
       "75%      164.860000  7730.000000       10.000000  2024.0    10.000000   \n",
       "max    69152.990000  8777.000000       30.000000  2024.0    12.000000   \n",
       "std     5566.346836  2312.025146        1.445304     0.0     3.495910   \n",
       "\n",
       "       presupuesto_mes  dif_ventas_presupuesto  ratio_ventas_presupuesto  \n",
       "count      4812.000000             4812.000000              4.812000e+03  \n",
       "mean          0.083333             1155.163549              2.074411e+04  \n",
       "min           0.001385             -194.171418             -7.748210e+03  \n",
       "25%           0.056348               -0.045145              0.000000e+00  \n",
       "50%           0.082108               62.977873              9.433370e+02  \n",
       "75%           0.089300              304.742349              4.808249e+03  \n",
       "max           0.742626            69152.906667              9.803887e+06  \n",
       "std           0.059042             5852.149385              1.781187e+05  "
      ]
     },
     "execution_count": 44,
     "metadata": {},
     "output_type": "execute_result"
    }
   ],
   "source": [
    "df_final.describe()"
   ]
  },
  {
   "cell_type": "markdown",
   "id": "02d93fda",
   "metadata": {},
   "source": [
    "## Estadísticas de columnas categóricas"
   ]
  },
  {
   "cell_type": "code",
   "execution_count": 45,
   "id": "a7e65ee3",
   "metadata": {},
   "outputs": [
    {
     "data": {
      "application/vnd.microsoft.datawrangler.viewer.v0+json": {
       "columns": [
        {
         "name": "subfamilia",
         "rawType": "object",
         "type": "string"
        },
        {
         "name": "count",
         "rawType": "int64",
         "type": "integer"
        }
       ],
       "ref": "cf8ab21e-1864-4bdb-9f20-96e4455f10f6",
       "rows": [
        [
         "ARTICULOS SIN CONTROL DE STOCK",
         "948"
        ],
        [
         "SERVICIOS VARIOS SAT",
         "600"
        ],
        [
         "CONSUMIBLES BINS",
         "252"
        ],
        [
         "CAIXAS RECTAS CLASICAS",
         "252"
        ],
        [
         "SACOS",
         "240"
        ],
        [
         "REPUESTOS ECONOMY BAG",
         "216"
        ],
        [
         "CUBAS",
         "168"
        ],
        [
         "CAJAS POLIESTIRENO",
         "144"
        ],
        [
         "MALLA MOLUSCOS",
         "144"
        ],
        [
         "BARCAS CLASICAS",
         "144"
        ],
        [
         "TAPAS CAIXAS",
         "120"
        ],
        [
         "REPUESTOS EQUIPO DEPURACION Y ESTOCAJE",
         "72"
        ],
        [
         "COTTON PLUS",
         "72"
        ],
        [
         "TAPAS",
         "72"
        ],
        [
         "TAPAS BIN PUR",
         "72"
        ],
        [
         "RECREO",
         "72"
        ],
        [
         "REPUESTOS FLEJADORA FLRQ7000M",
         "72"
        ],
        [
         "ALQUILER DE PRODUCTO",
         "72"
        ],
        [
         "ROPA DE AGUAS Y BOTAS",
         "72"
        ],
        [
         "BOCAS",
         "60"
        ],
        [
         "ACCESORIOS MAQUINARIA DEPURADORAS Y ESTOCAJE",
         "48"
        ],
        [
         "MATERIAL DIVERSO",
         "48"
        ],
        [
         "REPUESTOS PESADORAS MULTICABEZAL",
         "48"
        ],
        [
         "CABOS Y ESTACHAS USADOS",
         "48"
        ],
        [
         "REPUESTOS CINTA DE CARGA",
         "48"
        ],
        [
         "REPUESTOS TORNILLERIA",
         "36"
        ],
        [
         "REPUESTOS MAQUINARIA GENERALES",
         "36"
        ],
        [
         "ENVASES ESPECIALES: CAJA DEPURACION",
         "36"
        ],
        [
         "FLOTADOR LONG-LINE",
         "36"
        ],
        [
         "CINTURONES",
         "36"
        ],
        [
         "COMPLEMENTOS PANTALANES",
         "24"
        ],
        [
         "REPUESTOS IMPRESORA PM43C",
         "24"
        ],
        [
         "REPUESTOS PESADORA PESAJE ELECTRONICO",
         "24"
        ],
        [
         "FLOTADOR PANTALAN EPE/EPS",
         "24"
        ],
        [
         "MATERIAL MEJILLON VARIOS",
         "24"
        ],
        [
         "REPUESTOS CALIBRADORA",
         "24"
        ],
        [
         "ESTACHAS NUEVAS",
         "24"
        ],
        [
         "RED ARRASTRE CERRADA Y NORMAL USADA",
         "24"
        ],
        [
         "RED SARDINAL USADA",
         "24"
        ],
        [
         "CUERDAS \"TIBURON\"",
         "24"
        ],
        [
         "CORREDERA",
         "24"
        ],
        [
         "REPUESTOS LAVADORA",
         "24"
        ],
        [
         "HERRAJES VARIOS",
         "24"
        ],
        [
         "CAIXAS RECTAS BISELADAS PLASTIFICADAS",
         "24"
        ],
        [
         "DISPOSITIVOS AGREGADORES DE PECES (TUNAHOME)",
         "24"
        ],
        [
         "COMPLEMENTOS CAIXAS",
         "24"
        ],
        [
         "PLATAFORMAS BARRACUDA",
         "24"
        ],
        [
         "OTRAS OPERACIONES (NO NEGOCIO)",
         "24"
        ],
        [
         "BARCAS BISELADAS PLASTIFICADAS",
         "24"
        ],
        [
         "OSTRICULTURA",
         "24"
        ]
       ],
       "shape": {
        "columns": 1,
        "rows": 63
       }
      },
      "text/plain": [
       "subfamilia\n",
       "ARTICULOS SIN CONTROL DE STOCK          948\n",
       "SERVICIOS VARIOS SAT                    600\n",
       "CONSUMIBLES BINS                        252\n",
       "CAIXAS RECTAS CLASICAS                  252\n",
       "SACOS                                   240\n",
       "                                       ... \n",
       "NATURLINE                                 1\n",
       "PROD, RODEAR RED TUBULAR (NO PROPIO)      1\n",
       "TRENCILLA POLIESTER H,T,                  1\n",
       "PROD, COMPL,: FLEJES Y GOMAS              1\n",
       "REPUESTOS GRAP, NEUMATICA AN-1            1\n",
       "Name: count, Length: 63, dtype: int64"
      ]
     },
     "execution_count": 45,
     "metadata": {},
     "output_type": "execute_result"
    }
   ],
   "source": [
    "df_final['macrofamilia'].value_counts()\n",
    "df_final['familia'].value_counts()\n",
    "df_final['subfamilia'].value_counts()"
   ]
  },
  {
   "cell_type": "markdown",
   "id": "fb721b7a",
   "metadata": {},
   "source": [
    "## Distribución de las métricas clave"
   ]
  },
  {
   "cell_type": "code",
   "execution_count": 46,
   "id": "a09c8773",
   "metadata": {},
   "outputs": [
    {
     "data": {
      "image/png": "[encoded data removed]",
      "text/plain": [
       "<Figure size 640x480 with 1 Axes>"
      ]
     },
     "metadata": {},
     "output_type": "display_data"
    },
    {
     "data": {
      "image/png": "[encoded data removed]",
      "text/plain": [
       "<Figure size 640x480 with 1 Axes>"
      ]
     },
     "metadata": {},
     "output_type": "display_data"
    },
    {
     "data": {
      "image/png": "[encoded data removed]",
      "text/plain": [
       "<Figure size 640x480 with 1 Axes>"
      ]
     },
     "metadata": {},
     "output_type": "display_data"
    }
   ],
   "source": [
    "import matplotlib.pyplot as plt\n",
    "\n",
    "# Histograma de ventas\n",
    "df_final['ventas_(€)'].hist(bins=30)\n",
    "plt.title('Distribución de ventas (€)')\n",
    "plt.show()\n",
    "\n",
    "# Histograma de presupuesto\n",
    "df_final['presupuesto_mes'].hist(bins=30)\n",
    "plt.title('Distribución de presupuesto (€)')\n",
    "plt.show()\n",
    "\n",
    "# Boxplot para ver outliers\n",
    "df_final[['dif_ventas_presupuesto', 'ratio_ventas_presupuesto']].boxplot()\n",
    "plt.show()"
   ]
  },
  {
   "cell_type": "markdown",
   "id": "e336f55d",
   "metadata": {},
   "source": [
    "## Guardar df_final limpio"
   ]
  },
  {
   "cell_type": "code",
   "execution_count": 47,
   "id": "c8e21d0d",
   "metadata": {},
   "outputs": [],
   "source": [
    "ruta_final = r\"C:\\Users\\smp\\OneDrive - Grupo JJChicolino\\THE POWER\\PROYECTOFINALEDA\\data\\output\\final\"\n",
    "os.makedirs(ruta_final, exist_ok=True)"
   ]
  },
  {
   "cell_type": "code",
   "execution_count": 48,
   "id": "a83d5160",
   "metadata": {},
   "outputs": [
    {
     "name": "stdout",
     "output_type": "stream",
     "text": [
      "✅ Archivo guardado correctamente en: C:\\Users\\smp\\OneDrive - Grupo JJChicolino\\THE POWER\\PROYECTOFINALEDA\\data\\output\\final\n"
     ]
    }
   ],
   "source": [
    "df_final.to_csv(os.path.join(ruta_final, \"df_final_para_powerbi.csv\"), index=False)\n",
    "\n",
    "print(\"✅ Archivo guardado correctamente en:\", ruta_final)"
   ]
  },
  {
   "cell_type": "code",
   "execution_count": 49,
   "id": "7d23405c",
   "metadata": {},
   "outputs": [],
   "source": [
    "df_final.to_excel(os.path.join(ruta_final, \"df_final_para_powerbi.xlsx\"), index=False)"
   ]
  }
 ],
 "metadata": {
  "kernelspec": {
   "display_name": "Python 3",
   "language": "python",
   "name": "python3"
  },
  "language_info": {
   "codemirror_mode": {
    "name": "ipython",
    "version": 3
   },
   "file_extension": ".py",
   "mimetype": "text/x-python",
   "name": "python",
   "nbconvert_exporter": "python",
   "pygments_lexer": "ipython3",
   "version": "3.13.2"
  }
 },
 "nbformat": 4,
 "nbformat_minor": 5
}
