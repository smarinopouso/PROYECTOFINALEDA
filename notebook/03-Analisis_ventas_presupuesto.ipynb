{
 "cells": [
  {
   "cell_type": "code",
   "execution_count": 2,
   "id": "1355d969",
   "metadata": {},
   "outputs": [],
   "source": [
    "import pandas as pd"
   ]
  },
  {
   "cell_type": "markdown",
   "id": "c014f50f",
   "metadata": {},
   "source": [
    "## Definir carpeta de salida"
   ]
  },
  {
   "cell_type": "code",
   "execution_count": 3,
   "id": "101e395e",
   "metadata": {},
   "outputs": [],
   "source": [
    "ruta_base = r\"C:\\Users\\smp\\OneDrive - Grupo JJChicolino\\THE POWER\\PROYECTOFINALEDA\\data\\output\""
   ]
  },
  {
   "cell_type": "markdown",
   "id": "3bbca352",
   "metadata": {},
   "source": [
    "## Cargar datasets limpios"
   ]
  },
  {
   "cell_type": "code",
   "execution_count": 4,
   "id": "1f678743",
   "metadata": {},
   "outputs": [],
   "source": [
    "df4 = pd.read_csv(ruta_base + r\"\\ventas2024_limpio.csv\")       # ventas\n",
    "df5 = pd.read_excel(ruta_base + r\"\\presupuesto2024_limpio.xlsx\")  # presupuesto"
   ]
  },
  {
   "cell_type": "code",
   "execution_count": 5,
   "id": "b441b547",
   "metadata": {},
   "outputs": [
    {
     "name": "stdout",
     "output_type": "stream",
     "text": [
      "<class 'pandas.core.frame.DataFrame'>\n",
      "RangeIndex: 33877 entries, 0 to 33876\n",
      "Data columns (total 19 columns):\n",
      " #   Column               Non-Null Count  Dtype  \n",
      "---  ------               --------------  -----  \n",
      " 0   codcompany           33877 non-null  int64  \n",
      " 1   idcustomer           33877 non-null  object \n",
      " 2   fecha                33877 non-null  object \n",
      " 3   idarticle            33877 non-null  object \n",
      " 4   quantity             33877 non-null  float64\n",
      " 5   saleamount           33877 non-null  float64\n",
      " 6   costamount           33877 non-null  float64\n",
      " 7   idpaymentmethod      33877 non-null  object \n",
      " 8   documento            33877 non-null  object \n",
      " 9   codcustomer          33877 non-null  int64  \n",
      " 10  cliente              33877 non-null  object \n",
      " 11  codvouchertype       33877 non-null  int64  \n",
      " 12  tipoasiento          33877 non-null  object \n",
      " 13  codproductline       33877 non-null  object \n",
      " 14  macrofamilia         33877 non-null  object \n",
      " 15  codproductfamily     33877 non-null  object \n",
      " 16  familia              33877 non-null  object \n",
      " 17  codproductsubfamily  33877 non-null  object \n",
      " 18  subfamilia           33877 non-null  object \n",
      "dtypes: float64(3), int64(3), object(13)\n",
      "memory usage: 4.9+ MB\n"
     ]
    }
   ],
   "source": [
    "df4.head()\n",
    "df4.info()"
   ]
  },
  {
   "cell_type": "code",
   "execution_count": 8,
   "id": "5165a8d9",
   "metadata": {},
   "outputs": [
    {
     "name": "stdout",
     "output_type": "stream",
     "text": [
      "<class 'pandas.core.frame.DataFrame'>\n",
      "RangeIndex: 6060 entries, 0 to 6059\n",
      "Data columns (total 15 columns):\n",
      " #   Column            Non-Null Count  Dtype  \n",
      "---  ------            --------------  -----  \n",
      " 0   cod_empresa       6060 non-null   int64  \n",
      " 1   cod_macrofamilia  6060 non-null   object \n",
      " 2   macrofamilia      6060 non-null   object \n",
      " 3   codfamila         6060 non-null   object \n",
      " 4   familia           6060 non-null   object \n",
      " 5   codsubfamilia     6060 non-null   object \n",
      " 6   subfamilia        6060 non-null   object \n",
      " 7   tipo_cliente      6060 non-null   int64  \n",
      " 8   ventas_(€)        6060 non-null   float64\n",
      " 9   margen_(€)        0 non-null      float64\n",
      " 10  unidades          6060 non-null   float64\n",
      " 11  mes               6060 non-null   object \n",
      " 12  %_margen          0 non-null      float64\n",
      " 13  mes.1             6060 non-null   object \n",
      " 14  presupuesto_mes   6060 non-null   float64\n",
      "dtypes: float64(5), int64(2), object(8)\n",
      "memory usage: 710.3+ KB\n"
     ]
    }
   ],
   "source": [
    "df5.head()\n",
    "df5.info()"
   ]
  },
  {
   "cell_type": "code",
   "execution_count": 10,
   "id": "87625a5f",
   "metadata": {},
   "outputs": [
    {
     "name": "stdout",
     "output_type": "stream",
     "text": [
      "Columnas de df4 (ventas):\n",
      "['codcompany', 'idcustomer', 'fecha', 'idarticle', 'quantity', 'saleamount', 'costamount', 'idpaymentmethod', 'documento', 'codcustomer', 'cliente', 'codvouchertype', 'tipoasiento', 'codproductline', 'macrofamilia', 'codproductfamily', 'familia', 'codproductsubfamily', 'subfamilia']\n"
     ]
    }
   ],
   "source": [
    "print(\"Columnas de df4 (ventas):\")\n",
    "print(df4.columns.tolist())\n"
   ]
  },
  {
   "cell_type": "code",
   "execution_count": 11,
   "id": "0340c375",
   "metadata": {},
   "outputs": [
    {
     "name": "stdout",
     "output_type": "stream",
     "text": [
      "\n",
      "Columnas de df5 (presupuesto):\n",
      "['cod_empresa', 'cod_macrofamilia', 'macrofamilia', 'codfamila', 'familia', 'codsubfamilia', 'subfamilia', 'tipo_cliente', 'ventas_(€)', 'margen_(€)', 'unidades', 'mes', '%_margen', 'mes.1', 'presupuesto_mes']\n"
     ]
    }
   ],
   "source": [
    "print(\"\\nColumnas de df5 (presupuesto):\")\n",
    "print(df5.columns.tolist())"
   ]
  },
  {
   "cell_type": "markdown",
   "id": "4537f754",
   "metadata": {},
   "source": [
    "## Renombrar columnas para que coincidan"
   ]
  },
  {
   "cell_type": "code",
   "execution_count": 12,
   "id": "d303aed8",
   "metadata": {},
   "outputs": [],
   "source": [
    "df4.rename(columns={\n",
    "    'codcompany': 'cod_empresa',\n",
    "    'codvouchertype': 'tipo_cliente',\n",
    "    'quantity': 'unidades',\n",
    "    'saleamount': 'ventas_(€)'\n",
    "}, inplace=True)\n"
   ]
  },
  {
   "cell_type": "code",
   "execution_count": 13,
   "id": "b674b419",
   "metadata": {},
   "outputs": [],
   "source": [
    "df5.drop(columns=['mes.1'], inplace=True)"
   ]
  },
  {
   "cell_type": "code",
   "execution_count": 451,
   "id": "c57c444f",
   "metadata": {},
   "outputs": [
    {
     "name": "stdout",
     "output_type": "stream",
     "text": [
      "Columnas df4: ['cod_empresa', 'idcustomer', 'fecha', 'idarticle', 'unidades', 'ventas_(€)', 'costamount', 'idpaymentmethod', 'documento', 'codcustomer', 'cliente', 'tipo_cliente', 'tipoasiento', 'codproductline', 'macrofamilia', 'codproductfamily', 'familia', 'codproductsubfamily', 'subfamilia', 'mes']\n",
      "Columnas df5: ['cod_empresa', 'cod_macrofamilia', 'macrofamilia', 'codfamila', 'familia', 'codsubfamilia', 'subfamilia', 'tipo_cliente', 'ventas_(€)', 'margen_(€)', 'unidades', 'mes', '%_margen', 'presupuesto_mes']\n"
     ]
    }
   ],
   "source": [
    "print(\"Columnas df4:\", df4.columns.tolist())\n",
    "print(\"Columnas df5:\", df5.columns.tolist())"
   ]
  },
  {
   "cell_type": "markdown",
   "id": "ed3d6cda",
   "metadata": {},
   "source": [
    "## Crear columna “mes” en ventas para poder hacer el merge"
   ]
  },
  {
   "cell_type": "code",
   "execution_count": 14,
   "id": "17204e24",
   "metadata": {},
   "outputs": [],
   "source": [
    "df4['fecha'] = pd.to_datetime(df4['fecha'], errors='coerce')"
   ]
  },
  {
   "cell_type": "code",
   "execution_count": 15,
   "id": "048a772a",
   "metadata": {},
   "outputs": [],
   "source": [
    "df4['mes'] = df4['fecha'].dt.month_name().str.lower()"
   ]
  },
  {
   "cell_type": "code",
   "execution_count": 16,
   "id": "6462b904",
   "metadata": {},
   "outputs": [
    {
     "name": "stdout",
     "output_type": "stream",
     "text": [
      "['cod_empresa', 'idcustomer', 'fecha', 'idarticle', 'unidades', 'ventas_(€)', 'costamount', 'idpaymentmethod', 'documento', 'codcustomer', 'cliente', 'tipo_cliente', 'tipoasiento', 'codproductline', 'macrofamilia', 'codproductfamily', 'familia', 'codproductsubfamily', 'subfamilia', 'mes']\n",
      "<class 'pandas.core.frame.DataFrame'>\n",
      "RangeIndex: 33877 entries, 0 to 33876\n",
      "Data columns (total 20 columns):\n",
      " #   Column               Non-Null Count  Dtype         \n",
      "---  ------               --------------  -----         \n",
      " 0   cod_empresa          33877 non-null  int64         \n",
      " 1   idcustomer           33877 non-null  object        \n",
      " 2   fecha                33877 non-null  datetime64[ns]\n",
      " 3   idarticle            33877 non-null  object        \n",
      " 4   unidades             33877 non-null  float64       \n",
      " 5   ventas_(€)           33877 non-null  float64       \n",
      " 6   costamount           33877 non-null  float64       \n",
      " 7   idpaymentmethod      33877 non-null  object        \n",
      " 8   documento            33877 non-null  object        \n",
      " 9   codcustomer          33877 non-null  int64         \n",
      " 10  cliente              33877 non-null  object        \n",
      " 11  tipo_cliente         33877 non-null  int64         \n",
      " 12  tipoasiento          33877 non-null  object        \n",
      " 13  codproductline       33877 non-null  object        \n",
      " 14  macrofamilia         33877 non-null  object        \n",
      " 15  codproductfamily     33877 non-null  object        \n",
      " 16  familia              33877 non-null  object        \n",
      " 17  codproductsubfamily  33877 non-null  object        \n",
      " 18  subfamilia           33877 non-null  object        \n",
      " 19  mes                  33877 non-null  object        \n",
      "dtypes: datetime64[ns](1), float64(3), int64(3), object(13)\n",
      "memory usage: 5.2+ MB\n"
     ]
    }
   ],
   "source": [
    "print(df4.columns.tolist())\n",
    "df4.info()\n"
   ]
  },
  {
   "cell_type": "code",
   "execution_count": 17,
   "id": "a399bd64",
   "metadata": {},
   "outputs": [
    {
     "name": "stdout",
     "output_type": "stream",
     "text": [
      "['cod_empresa', 'cod_macrofamilia', 'macrofamilia', 'codfamila', 'familia', 'codsubfamilia', 'subfamilia', 'tipo_cliente', 'ventas_(€)', 'margen_(€)', 'unidades', 'mes', '%_margen', 'presupuesto_mes']\n",
      "<class 'pandas.core.frame.DataFrame'>\n",
      "RangeIndex: 6060 entries, 0 to 6059\n",
      "Data columns (total 14 columns):\n",
      " #   Column            Non-Null Count  Dtype  \n",
      "---  ------            --------------  -----  \n",
      " 0   cod_empresa       6060 non-null   int64  \n",
      " 1   cod_macrofamilia  6060 non-null   object \n",
      " 2   macrofamilia      6060 non-null   object \n",
      " 3   codfamila         6060 non-null   object \n",
      " 4   familia           6060 non-null   object \n",
      " 5   codsubfamilia     6060 non-null   object \n",
      " 6   subfamilia        6060 non-null   object \n",
      " 7   tipo_cliente      6060 non-null   int64  \n",
      " 8   ventas_(€)        6060 non-null   float64\n",
      " 9   margen_(€)        0 non-null      float64\n",
      " 10  unidades          6060 non-null   float64\n",
      " 11  mes               6060 non-null   object \n",
      " 12  %_margen          0 non-null      float64\n",
      " 13  presupuesto_mes   6060 non-null   float64\n",
      "dtypes: float64(5), int64(2), object(7)\n",
      "memory usage: 662.9+ KB\n"
     ]
    }
   ],
   "source": [
    "print(df5.columns.tolist())\n",
    "df5.info()"
   ]
  },
  {
   "cell_type": "markdown",
   "id": "aa64c81e",
   "metadata": {},
   "source": [
    "## Unificar valores de tipo cliente"
   ]
  },
  {
   "cell_type": "code",
   "execution_count": 18,
   "id": "cd2b0c4b",
   "metadata": {},
   "outputs": [],
   "source": [
    "df4['tipo_cliente'] = df4['tipo_cliente'].replace({\n",
    "    '12': '11',\n",
    "    '13': '11',\n",
    "    '30': '10',\n",
    "    '31': '10'\n",
    "})"
   ]
  },
  {
   "cell_type": "markdown",
   "id": "57db3d9e",
   "metadata": {},
   "source": [
    "## Normalizar nombres de columnas en df4 (ventas) para que coincidan con df5"
   ]
  },
  {
   "cell_type": "code",
   "execution_count": 19,
   "id": "b1c60b1d",
   "metadata": {},
   "outputs": [],
   "source": [
    "df4 = df4.rename(columns={\n",
    "    'codcompany': 'cod_empresa',\n",
    "    'quantity': 'unidades',\n",
    "    'saleamount': 'ventas_(€)',\n",
    "    'codvouchertype': 'tipo_cliente'\n",
    "})"
   ]
  },
  {
   "cell_type": "markdown",
   "id": "033317fc",
   "metadata": {},
   "source": [
    "## Asegurarnos de que la columna 'mes' exista en df4 y esté en minúsculas"
   ]
  },
  {
   "cell_type": "code",
   "execution_count": 20,
   "id": "2726c97d",
   "metadata": {},
   "outputs": [],
   "source": [
    "df4['mes'] = pd.to_datetime(df4['fecha']).dt.month_name(locale='es_ES').str.lower()"
   ]
  },
  {
   "cell_type": "markdown",
   "id": "36db7336",
   "metadata": {},
   "source": [
    "## Asegurar que 'tipo_cliente' sea del mismo tipo en ambos df"
   ]
  },
  {
   "cell_type": "code",
   "execution_count": 21,
   "id": "e9a806bc",
   "metadata": {},
   "outputs": [],
   "source": [
    "df4['tipo_cliente'] = df4['tipo_cliente'].astype(str)\n",
    "df5['tipo_cliente'] = df5['tipo_cliente'].astype(str)"
   ]
  },
  {
   "cell_type": "markdown",
   "id": "ae12afb7",
   "metadata": {},
   "source": [
    "## Normalizar 'mes' en df5 a minúsculas también"
   ]
  },
  {
   "cell_type": "code",
   "execution_count": 22,
   "id": "7ff2d41a",
   "metadata": {},
   "outputs": [],
   "source": [
    "df5['mes'] = df5['mes'].str.lower()"
   ]
  },
  {
   "cell_type": "markdown",
   "id": "b704fd5b",
   "metadata": {},
   "source": [
    "## Eliminar las filas de la subfamilia portes de ventas "
   ]
  },
  {
   "cell_type": "code",
   "execution_count": 23,
   "id": "1610f3ca",
   "metadata": {},
   "outputs": [],
   "source": [
    "df4 = df4[df4['subfamilia'].str.strip().str.upper() != 'PORTES']"
   ]
  },
  {
   "cell_type": "code",
   "execution_count": 24,
   "id": "a2850cb1",
   "metadata": {},
   "outputs": [
    {
     "name": "stdout",
     "output_type": "stream",
     "text": [
      "<class 'pandas.core.frame.DataFrame'>\n",
      "Index: 31730 entries, 0 to 33876\n",
      "Data columns (total 20 columns):\n",
      " #   Column               Non-Null Count  Dtype         \n",
      "---  ------               --------------  -----         \n",
      " 0   cod_empresa          31730 non-null  int64         \n",
      " 1   idcustomer           31730 non-null  object        \n",
      " 2   fecha                31730 non-null  datetime64[ns]\n",
      " 3   idarticle            31730 non-null  object        \n",
      " 4   unidades             31730 non-null  float64       \n",
      " 5   ventas_(€)           31730 non-null  float64       \n",
      " 6   costamount           31730 non-null  float64       \n",
      " 7   idpaymentmethod      31730 non-null  object        \n",
      " 8   documento            31730 non-null  object        \n",
      " 9   codcustomer          31730 non-null  int64         \n",
      " 10  cliente              31730 non-null  object        \n",
      " 11  tipo_cliente         31730 non-null  object        \n",
      " 12  tipoasiento          31730 non-null  object        \n",
      " 13  codproductline       31730 non-null  object        \n",
      " 14  macrofamilia         31730 non-null  object        \n",
      " 15  codproductfamily     31730 non-null  object        \n",
      " 16  familia              31730 non-null  object        \n",
      " 17  codproductsubfamily  31730 non-null  object        \n",
      " 18  subfamilia           31730 non-null  object        \n",
      " 19  mes                  31730 non-null  object        \n",
      "dtypes: datetime64[ns](1), float64(3), int64(2), object(14)\n",
      "memory usage: 5.1+ MB\n"
     ]
    }
   ],
   "source": [
    "df4.info()"
   ]
  },
  {
   "cell_type": "markdown",
   "id": "2766e4f4",
   "metadata": {},
   "source": [
    "# Paso 5: Merge con left join para mantener todos los registros de ventas"
   ]
  },
  {
   "cell_type": "code",
   "execution_count": 25,
   "id": "dad96401",
   "metadata": {},
   "outputs": [],
   "source": [
    "df_final = pd.merge(\n",
    "    df4,\n",
    "    df5,\n",
    "    on=['cod_empresa', 'subfamilia', 'tipo_cliente', 'mes'],\n",
    "    how='left',\n",
    "    suffixes=('_ventas','_presupuesto')\n",
    ")"
   ]
  },
  {
   "cell_type": "markdown",
   "id": "20171817",
   "metadata": {},
   "source": [
    "## Verificar dataframe final"
   ]
  },
  {
   "cell_type": "code",
   "execution_count": 26,
   "id": "94c2c3eb",
   "metadata": {},
   "outputs": [
    {
     "name": "stdout",
     "output_type": "stream",
     "text": [
      "(44623, 30)\n"
     ]
    },
    {
     "data": {
      "application/vnd.microsoft.datawrangler.viewer.v0+json": {
       "columns": [
        {
         "name": "index",
         "rawType": "int64",
         "type": "integer"
        },
        {
         "name": "cod_empresa",
         "rawType": "int64",
         "type": "integer"
        },
        {
         "name": "idcustomer",
         "rawType": "object",
         "type": "string"
        },
        {
         "name": "fecha",
         "rawType": "datetime64[ns]",
         "type": "datetime"
        },
        {
         "name": "idarticle",
         "rawType": "object",
         "type": "string"
        },
        {
         "name": "unidades_ventas",
         "rawType": "float64",
         "type": "float"
        },
        {
         "name": "ventas_(€)_ventas",
         "rawType": "float64",
         "type": "float"
        },
        {
         "name": "costamount",
         "rawType": "float64",
         "type": "float"
        },
        {
         "name": "idpaymentmethod",
         "rawType": "object",
         "type": "string"
        },
        {
         "name": "documento",
         "rawType": "object",
         "type": "string"
        },
        {
         "name": "codcustomer",
         "rawType": "int64",
         "type": "integer"
        },
        {
         "name": "cliente",
         "rawType": "object",
         "type": "string"
        },
        {
         "name": "tipo_cliente",
         "rawType": "object",
         "type": "string"
        },
        {
         "name": "tipoasiento",
         "rawType": "object",
         "type": "string"
        },
        {
         "name": "codproductline",
         "rawType": "object",
         "type": "string"
        },
        {
         "name": "macrofamilia_ventas",
         "rawType": "object",
         "type": "string"
        },
        {
         "name": "codproductfamily",
         "rawType": "object",
         "type": "string"
        },
        {
         "name": "familia_ventas",
         "rawType": "object",
         "type": "string"
        },
        {
         "name": "codproductsubfamily",
         "rawType": "object",
         "type": "string"
        },
        {
         "name": "subfamilia",
         "rawType": "object",
         "type": "string"
        },
        {
         "name": "mes",
         "rawType": "object",
         "type": "string"
        },
        {
         "name": "cod_macrofamilia",
         "rawType": "object",
         "type": "string"
        },
        {
         "name": "macrofamilia_presupuesto",
         "rawType": "object",
         "type": "string"
        },
        {
         "name": "codfamila",
         "rawType": "object",
         "type": "string"
        },
        {
         "name": "familia_presupuesto",
         "rawType": "object",
         "type": "string"
        },
        {
         "name": "codsubfamilia",
         "rawType": "object",
         "type": "string"
        },
        {
         "name": "ventas_(€)_presupuesto",
         "rawType": "float64",
         "type": "float"
        },
        {
         "name": "margen_(€)",
         "rawType": "float64",
         "type": "float"
        },
        {
         "name": "unidades_presupuesto",
         "rawType": "float64",
         "type": "float"
        },
        {
         "name": "%_margen",
         "rawType": "float64",
         "type": "float"
        },
        {
         "name": "presupuesto_mes",
         "rawType": "float64",
         "type": "float"
        }
       ],
       "ref": "61e95372-bf2a-4668-9d2b-24dcb7956115",
       "rows": [
        [
         "0",
         "1",
         "001-003451",
         "2024-06-28 00:00:00",
         "001-010a055050tr",
         "86.0",
         "1316.66",
         "1316.66",
         "95839b62-ccc4-4a70-a894-012c7d43a5bb",
         "24A060136",
         "3451",
         "ENVASES DE GALICIA, S.A.U. (EGALSA)",
         "10",
         "VENTAS NACIONALES",
         "MF6",
         "Envases y Embalajes",
         "F33",
         "Sacos y Mallas Extruidas",
         "010",
         "MALLA MOLUSCOS",
         "junio",
         "MF6",
         "Envases y Embalajes",
         "F33",
         "Sacos y Mallas Extruidas",
         "010",
         "170.2526315789474",
         null,
         "4.281052631578946",
         null,
         "0.04351626590116237"
        ],
        [
         "1",
         "1",
         "001-003451",
         "2024-01-31 00:00:00",
         "001-010a055050tr",
         "50.0",
         "705.0",
         "705.0",
         "95839b62-ccc4-4a70-a894-012c7d43a5bb",
         "24A010160",
         "3451",
         "ENVASES DE GALICIA, S.A.U. (EGALSA)",
         "10",
         "VENTAS NACIONALES",
         "MF6",
         "Envases y Embalajes",
         "F33",
         "Sacos y Mallas Extruidas",
         "010",
         "MALLA MOLUSCOS",
         "enero",
         "MF6",
         "Envases y Embalajes",
         "F33",
         "Sacos y Mallas Extruidas",
         "010",
         "170.2526315789474",
         null,
         "4.281052631578946",
         null,
         "0.0521588934114375"
        ],
        [
         "2",
         "1",
         "001-003451",
         "2024-10-31 00:00:00",
         "001-010a055050tr",
         "5.0",
         "76.55",
         "76.55",
         "95839b62-ccc4-4a70-a894-012c7d43a5bb",
         "24A100186",
         "3451",
         "ENVASES DE GALICIA, S.A.U. (EGALSA)",
         "10",
         "VENTAS NACIONALES",
         "MF6",
         "Envases y Embalajes",
         "F33",
         "Sacos y Mallas Extruidas",
         "010",
         "MALLA MOLUSCOS",
         "octubre",
         "MF6",
         "Envases y Embalajes",
         "F33",
         "Sacos y Mallas Extruidas",
         "010",
         "170.2526315789474",
         null,
         "4.281052631578946",
         null,
         "0.115589309294403"
        ],
        [
         "3",
         "1",
         "001-003451",
         "2024-10-31 00:00:00",
         "001-010a073650az",
         "3.0",
         "62.37",
         "62.37",
         "95839b62-ccc4-4a70-a894-012c7d43a5bb",
         "24A100186",
         "3451",
         "ENVASES DE GALICIA, S.A.U. (EGALSA)",
         "10",
         "VENTAS NACIONALES",
         "MF6",
         "Envases y Embalajes",
         "F33",
         "Sacos y Mallas Extruidas",
         "010",
         "MALLA MOLUSCOS",
         "octubre",
         "MF6",
         "Envases y Embalajes",
         "F33",
         "Sacos y Mallas Extruidas",
         "010",
         "170.2526315789474",
         null,
         "4.281052631578946",
         null,
         "0.115589309294403"
        ],
        [
         "4",
         "1",
         "001-003451",
         "2024-11-29 00:00:00",
         "001-010a073650az",
         "11.0",
         "228.69",
         "228.69",
         "95839b62-ccc4-4a70-a894-012c7d43a5bb",
         "24A110174",
         "3451",
         "ENVASES DE GALICIA, S.A.U. (EGALSA)",
         "10",
         "VENTAS NACIONALES",
         "MF6",
         "Envases y Embalajes",
         "F33",
         "Sacos y Mallas Extruidas",
         "010",
         "MALLA MOLUSCOS",
         "noviembre",
         "MF6",
         "Envases y Embalajes",
         "F33",
         "Sacos y Mallas Extruidas",
         "010",
         "170.2526315789474",
         null,
         "4.281052631578946",
         null,
         "0.07131407470058185"
        ],
        [
         "5",
         "1",
         "001-003451",
         "2024-06-28 00:00:00",
         "001-010a073650az",
         "10.0",
         "207.9",
         "207.9",
         "95839b62-ccc4-4a70-a894-012c7d43a5bb",
         "24A060141",
         "3451",
         "ENVASES DE GALICIA, S.A.U. (EGALSA)",
         "10",
         "VENTAS NACIONALES",
         "MF6",
         "Envases y Embalajes",
         "F33",
         "Sacos y Mallas Extruidas",
         "010",
         "MALLA MOLUSCOS",
         "junio",
         "MF6",
         "Envases y Embalajes",
         "F33",
         "Sacos y Mallas Extruidas",
         "010",
         "170.2526315789474",
         null,
         "4.281052631578946",
         null,
         "0.04351626590116237"
        ],
        [
         "6",
         "1",
         "001-003451",
         "2024-05-31 00:00:00",
         "001-010a073650az",
         "2.0",
         "38.24",
         "38.24",
         "95839b62-ccc4-4a70-a894-012c7d43a5bb",
         "24A050105",
         "3451",
         "ENVASES DE GALICIA, S.A.U. (EGALSA)",
         "10",
         "VENTAS NACIONALES",
         "MF6",
         "Envases y Embalajes",
         "F33",
         "Sacos y Mallas Extruidas",
         "010",
         "MALLA MOLUSCOS",
         "mayo",
         "MF6",
         "Envases y Embalajes",
         "F33",
         "Sacos y Mallas Extruidas",
         "010",
         "170.2526315789474",
         null,
         "4.281052631578946",
         null,
         "0.03406228744983154"
        ],
        [
         "7",
         "1",
         "001-003451",
         "2024-09-30 00:00:00",
         "001-010a073650az",
         "4.0",
         "83.16",
         "83.16",
         "95839b62-ccc4-4a70-a894-012c7d43a5bb",
         "24A090148",
         "3451",
         "ENVASES DE GALICIA, S.A.U. (EGALSA)",
         "10",
         "VENTAS NACIONALES",
         "MF6",
         "Envases y Embalajes",
         "F33",
         "Sacos y Mallas Extruidas",
         "010",
         "MALLA MOLUSCOS",
         "septiembre",
         "MF6",
         "Envases y Embalajes",
         "F33",
         "Sacos y Mallas Extruidas",
         "010",
         "170.2526315789474",
         null,
         "4.281052631578946",
         null,
         "0.09932276900599754"
        ],
        [
         "8",
         "1",
         "001-003451",
         "2024-03-27 00:00:00",
         "001-010a073650az",
         "3.0",
         "57.36",
         "57.36",
         "95839b62-ccc4-4a70-a894-012c7d43a5bb",
         "24A030141",
         "3451",
         "ENVASES DE GALICIA, S.A.U. (EGALSA)",
         "10",
         "VENTAS NACIONALES",
         "MF6",
         "Envases y Embalajes",
         "F33",
         "Sacos y Mallas Extruidas",
         "010",
         "MALLA MOLUSCOS",
         "marzo",
         "MF6",
         "Envases y Embalajes",
         "F33",
         "Sacos y Mallas Extruidas",
         "010",
         "170.2526315789474",
         null,
         "4.281052631578946",
         null,
         "0.06953756518074733"
        ],
        [
         "9",
         "1",
         "001-003451",
         "2024-07-31 00:00:00",
         "001-010a073650az",
         "3.0",
         "62.37",
         "62.37",
         "95839b62-ccc4-4a70-a894-012c7d43a5bb",
         "24A070143",
         "3451",
         "ENVASES DE GALICIA, S.A.U. (EGALSA)",
         "10",
         "VENTAS NACIONALES",
         "MF6",
         "Envases y Embalajes",
         "F33",
         "Sacos y Mallas Extruidas",
         "010",
         "MALLA MOLUSCOS",
         "julio",
         "MF6",
         "Envases y Embalajes",
         "F33",
         "Sacos y Mallas Extruidas",
         "010",
         "170.2526315789474",
         null,
         "4.281052631578946",
         null,
         "0.04609399164915309"
        ]
       ],
       "shape": {
        "columns": 30,
        "rows": 10
       }
      },
      "text/html": [
       "<div>\n",
       "<style scoped>\n",
       "    .dataframe tbody tr th:only-of-type {\n",
       "        vertical-align: middle;\n",
       "    }\n",
       "\n",
       "    .dataframe tbody tr th {\n",
       "        vertical-align: top;\n",
       "    }\n",
       "\n",
       "    .dataframe thead th {\n",
       "        text-align: right;\n",
       "    }\n",
       "</style>\n",
       "<table border=\"1\" class=\"dataframe\">\n",
       "  <thead>\n",
       "    <tr style=\"text-align: right;\">\n",
       "      <th></th>\n",
       "      <th>cod_empresa</th>\n",
       "      <th>idcustomer</th>\n",
       "      <th>fecha</th>\n",
       "      <th>idarticle</th>\n",
       "      <th>unidades_ventas</th>\n",
       "      <th>ventas_(€)_ventas</th>\n",
       "      <th>costamount</th>\n",
       "      <th>idpaymentmethod</th>\n",
       "      <th>documento</th>\n",
       "      <th>codcustomer</th>\n",
       "      <th>...</th>\n",
       "      <th>cod_macrofamilia</th>\n",
       "      <th>macrofamilia_presupuesto</th>\n",
       "      <th>codfamila</th>\n",
       "      <th>familia_presupuesto</th>\n",
       "      <th>codsubfamilia</th>\n",
       "      <th>ventas_(€)_presupuesto</th>\n",
       "      <th>margen_(€)</th>\n",
       "      <th>unidades_presupuesto</th>\n",
       "      <th>%_margen</th>\n",
       "      <th>presupuesto_mes</th>\n",
       "    </tr>\n",
       "  </thead>\n",
       "  <tbody>\n",
       "    <tr>\n",
       "      <th>0</th>\n",
       "      <td>1</td>\n",
       "      <td>001-003451</td>\n",
       "      <td>2024-06-28</td>\n",
       "      <td>001-010a055050tr</td>\n",
       "      <td>86.0</td>\n",
       "      <td>1316.66</td>\n",
       "      <td>1316.66</td>\n",
       "      <td>95839b62-ccc4-4a70-a894-012c7d43a5bb</td>\n",
       "      <td>24A060136</td>\n",
       "      <td>3451</td>\n",
       "      <td>...</td>\n",
       "      <td>MF6</td>\n",
       "      <td>Envases y Embalajes</td>\n",
       "      <td>F33</td>\n",
       "      <td>Sacos y Mallas Extruidas</td>\n",
       "      <td>010</td>\n",
       "      <td>170.252632</td>\n",
       "      <td>NaN</td>\n",
       "      <td>4.281053</td>\n",
       "      <td>NaN</td>\n",
       "      <td>0.043516</td>\n",
       "    </tr>\n",
       "    <tr>\n",
       "      <th>1</th>\n",
       "      <td>1</td>\n",
       "      <td>001-003451</td>\n",
       "      <td>2024-01-31</td>\n",
       "      <td>001-010a055050tr</td>\n",
       "      <td>50.0</td>\n",
       "      <td>705.00</td>\n",
       "      <td>705.00</td>\n",
       "      <td>95839b62-ccc4-4a70-a894-012c7d43a5bb</td>\n",
       "      <td>24A010160</td>\n",
       "      <td>3451</td>\n",
       "      <td>...</td>\n",
       "      <td>MF6</td>\n",
       "      <td>Envases y Embalajes</td>\n",
       "      <td>F33</td>\n",
       "      <td>Sacos y Mallas Extruidas</td>\n",
       "      <td>010</td>\n",
       "      <td>170.252632</td>\n",
       "      <td>NaN</td>\n",
       "      <td>4.281053</td>\n",
       "      <td>NaN</td>\n",
       "      <td>0.052159</td>\n",
       "    </tr>\n",
       "    <tr>\n",
       "      <th>2</th>\n",
       "      <td>1</td>\n",
       "      <td>001-003451</td>\n",
       "      <td>2024-10-31</td>\n",
       "      <td>001-010a055050tr</td>\n",
       "      <td>5.0</td>\n",
       "      <td>76.55</td>\n",
       "      <td>76.55</td>\n",
       "      <td>95839b62-ccc4-4a70-a894-012c7d43a5bb</td>\n",
       "      <td>24A100186</td>\n",
       "      <td>3451</td>\n",
       "      <td>...</td>\n",
       "      <td>MF6</td>\n",
       "      <td>Envases y Embalajes</td>\n",
       "      <td>F33</td>\n",
       "      <td>Sacos y Mallas Extruidas</td>\n",
       "      <td>010</td>\n",
       "      <td>170.252632</td>\n",
       "      <td>NaN</td>\n",
       "      <td>4.281053</td>\n",
       "      <td>NaN</td>\n",
       "      <td>0.115589</td>\n",
       "    </tr>\n",
       "    <tr>\n",
       "      <th>3</th>\n",
       "      <td>1</td>\n",
       "      <td>001-003451</td>\n",
       "      <td>2024-10-31</td>\n",
       "      <td>001-010a073650az</td>\n",
       "      <td>3.0</td>\n",
       "      <td>62.37</td>\n",
       "      <td>62.37</td>\n",
       "      <td>95839b62-ccc4-4a70-a894-012c7d43a5bb</td>\n",
       "      <td>24A100186</td>\n",
       "      <td>3451</td>\n",
       "      <td>...</td>\n",
       "      <td>MF6</td>\n",
       "      <td>Envases y Embalajes</td>\n",
       "      <td>F33</td>\n",
       "      <td>Sacos y Mallas Extruidas</td>\n",
       "      <td>010</td>\n",
       "      <td>170.252632</td>\n",
       "      <td>NaN</td>\n",
       "      <td>4.281053</td>\n",
       "      <td>NaN</td>\n",
       "      <td>0.115589</td>\n",
       "    </tr>\n",
       "    <tr>\n",
       "      <th>4</th>\n",
       "      <td>1</td>\n",
       "      <td>001-003451</td>\n",
       "      <td>2024-11-29</td>\n",
       "      <td>001-010a073650az</td>\n",
       "      <td>11.0</td>\n",
       "      <td>228.69</td>\n",
       "      <td>228.69</td>\n",
       "      <td>95839b62-ccc4-4a70-a894-012c7d43a5bb</td>\n",
       "      <td>24A110174</td>\n",
       "      <td>3451</td>\n",
       "      <td>...</td>\n",
       "      <td>MF6</td>\n",
       "      <td>Envases y Embalajes</td>\n",
       "      <td>F33</td>\n",
       "      <td>Sacos y Mallas Extruidas</td>\n",
       "      <td>010</td>\n",
       "      <td>170.252632</td>\n",
       "      <td>NaN</td>\n",
       "      <td>4.281053</td>\n",
       "      <td>NaN</td>\n",
       "      <td>0.071314</td>\n",
       "    </tr>\n",
       "    <tr>\n",
       "      <th>5</th>\n",
       "      <td>1</td>\n",
       "      <td>001-003451</td>\n",
       "      <td>2024-06-28</td>\n",
       "      <td>001-010a073650az</td>\n",
       "      <td>10.0</td>\n",
       "      <td>207.90</td>\n",
       "      <td>207.90</td>\n",
       "      <td>95839b62-ccc4-4a70-a894-012c7d43a5bb</td>\n",
       "      <td>24A060141</td>\n",
       "      <td>3451</td>\n",
       "      <td>...</td>\n",
       "      <td>MF6</td>\n",
       "      <td>Envases y Embalajes</td>\n",
       "      <td>F33</td>\n",
       "      <td>Sacos y Mallas Extruidas</td>\n",
       "      <td>010</td>\n",
       "      <td>170.252632</td>\n",
       "      <td>NaN</td>\n",
       "      <td>4.281053</td>\n",
       "      <td>NaN</td>\n",
       "      <td>0.043516</td>\n",
       "    </tr>\n",
       "    <tr>\n",
       "      <th>6</th>\n",
       "      <td>1</td>\n",
       "      <td>001-003451</td>\n",
       "      <td>2024-05-31</td>\n",
       "      <td>001-010a073650az</td>\n",
       "      <td>2.0</td>\n",
       "      <td>38.24</td>\n",
       "      <td>38.24</td>\n",
       "      <td>95839b62-ccc4-4a70-a894-012c7d43a5bb</td>\n",
       "      <td>24A050105</td>\n",
       "      <td>3451</td>\n",
       "      <td>...</td>\n",
       "      <td>MF6</td>\n",
       "      <td>Envases y Embalajes</td>\n",
       "      <td>F33</td>\n",
       "      <td>Sacos y Mallas Extruidas</td>\n",
       "      <td>010</td>\n",
       "      <td>170.252632</td>\n",
       "      <td>NaN</td>\n",
       "      <td>4.281053</td>\n",
       "      <td>NaN</td>\n",
       "      <td>0.034062</td>\n",
       "    </tr>\n",
       "    <tr>\n",
       "      <th>7</th>\n",
       "      <td>1</td>\n",
       "      <td>001-003451</td>\n",
       "      <td>2024-09-30</td>\n",
       "      <td>001-010a073650az</td>\n",
       "      <td>4.0</td>\n",
       "      <td>83.16</td>\n",
       "      <td>83.16</td>\n",
       "      <td>95839b62-ccc4-4a70-a894-012c7d43a5bb</td>\n",
       "      <td>24A090148</td>\n",
       "      <td>3451</td>\n",
       "      <td>...</td>\n",
       "      <td>MF6</td>\n",
       "      <td>Envases y Embalajes</td>\n",
       "      <td>F33</td>\n",
       "      <td>Sacos y Mallas Extruidas</td>\n",
       "      <td>010</td>\n",
       "      <td>170.252632</td>\n",
       "      <td>NaN</td>\n",
       "      <td>4.281053</td>\n",
       "      <td>NaN</td>\n",
       "      <td>0.099323</td>\n",
       "    </tr>\n",
       "    <tr>\n",
       "      <th>8</th>\n",
       "      <td>1</td>\n",
       "      <td>001-003451</td>\n",
       "      <td>2024-03-27</td>\n",
       "      <td>001-010a073650az</td>\n",
       "      <td>3.0</td>\n",
       "      <td>57.36</td>\n",
       "      <td>57.36</td>\n",
       "      <td>95839b62-ccc4-4a70-a894-012c7d43a5bb</td>\n",
       "      <td>24A030141</td>\n",
       "      <td>3451</td>\n",
       "      <td>...</td>\n",
       "      <td>MF6</td>\n",
       "      <td>Envases y Embalajes</td>\n",
       "      <td>F33</td>\n",
       "      <td>Sacos y Mallas Extruidas</td>\n",
       "      <td>010</td>\n",
       "      <td>170.252632</td>\n",
       "      <td>NaN</td>\n",
       "      <td>4.281053</td>\n",
       "      <td>NaN</td>\n",
       "      <td>0.069538</td>\n",
       "    </tr>\n",
       "    <tr>\n",
       "      <th>9</th>\n",
       "      <td>1</td>\n",
       "      <td>001-003451</td>\n",
       "      <td>2024-07-31</td>\n",
       "      <td>001-010a073650az</td>\n",
       "      <td>3.0</td>\n",
       "      <td>62.37</td>\n",
       "      <td>62.37</td>\n",
       "      <td>95839b62-ccc4-4a70-a894-012c7d43a5bb</td>\n",
       "      <td>24A070143</td>\n",
       "      <td>3451</td>\n",
       "      <td>...</td>\n",
       "      <td>MF6</td>\n",
       "      <td>Envases y Embalajes</td>\n",
       "      <td>F33</td>\n",
       "      <td>Sacos y Mallas Extruidas</td>\n",
       "      <td>010</td>\n",
       "      <td>170.252632</td>\n",
       "      <td>NaN</td>\n",
       "      <td>4.281053</td>\n",
       "      <td>NaN</td>\n",
       "      <td>0.046094</td>\n",
       "    </tr>\n",
       "  </tbody>\n",
       "</table>\n",
       "<p>10 rows × 30 columns</p>\n",
       "</div>"
      ],
      "text/plain": [
       "   cod_empresa  idcustomer      fecha         idarticle  unidades_ventas  \\\n",
       "0            1  001-003451 2024-06-28  001-010a055050tr             86.0   \n",
       "1            1  001-003451 2024-01-31  001-010a055050tr             50.0   \n",
       "2            1  001-003451 2024-10-31  001-010a055050tr              5.0   \n",
       "3            1  001-003451 2024-10-31  001-010a073650az              3.0   \n",
       "4            1  001-003451 2024-11-29  001-010a073650az             11.0   \n",
       "5            1  001-003451 2024-06-28  001-010a073650az             10.0   \n",
       "6            1  001-003451 2024-05-31  001-010a073650az              2.0   \n",
       "7            1  001-003451 2024-09-30  001-010a073650az              4.0   \n",
       "8            1  001-003451 2024-03-27  001-010a073650az              3.0   \n",
       "9            1  001-003451 2024-07-31  001-010a073650az              3.0   \n",
       "\n",
       "   ventas_(€)_ventas  costamount                       idpaymentmethod  \\\n",
       "0            1316.66     1316.66  95839b62-ccc4-4a70-a894-012c7d43a5bb   \n",
       "1             705.00      705.00  95839b62-ccc4-4a70-a894-012c7d43a5bb   \n",
       "2              76.55       76.55  95839b62-ccc4-4a70-a894-012c7d43a5bb   \n",
       "3              62.37       62.37  95839b62-ccc4-4a70-a894-012c7d43a5bb   \n",
       "4             228.69      228.69  95839b62-ccc4-4a70-a894-012c7d43a5bb   \n",
       "5             207.90      207.90  95839b62-ccc4-4a70-a894-012c7d43a5bb   \n",
       "6              38.24       38.24  95839b62-ccc4-4a70-a894-012c7d43a5bb   \n",
       "7              83.16       83.16  95839b62-ccc4-4a70-a894-012c7d43a5bb   \n",
       "8              57.36       57.36  95839b62-ccc4-4a70-a894-012c7d43a5bb   \n",
       "9              62.37       62.37  95839b62-ccc4-4a70-a894-012c7d43a5bb   \n",
       "\n",
       "   documento  codcustomer  ... cod_macrofamilia macrofamilia_presupuesto  \\\n",
       "0  24A060136         3451  ...              MF6      Envases y Embalajes   \n",
       "1  24A010160         3451  ...              MF6      Envases y Embalajes   \n",
       "2  24A100186         3451  ...              MF6      Envases y Embalajes   \n",
       "3  24A100186         3451  ...              MF6      Envases y Embalajes   \n",
       "4  24A110174         3451  ...              MF6      Envases y Embalajes   \n",
       "5  24A060141         3451  ...              MF6      Envases y Embalajes   \n",
       "6  24A050105         3451  ...              MF6      Envases y Embalajes   \n",
       "7  24A090148         3451  ...              MF6      Envases y Embalajes   \n",
       "8  24A030141         3451  ...              MF6      Envases y Embalajes   \n",
       "9  24A070143         3451  ...              MF6      Envases y Embalajes   \n",
       "\n",
       "  codfamila       familia_presupuesto codsubfamilia ventas_(€)_presupuesto  \\\n",
       "0       F33  Sacos y Mallas Extruidas           010             170.252632   \n",
       "1       F33  Sacos y Mallas Extruidas           010             170.252632   \n",
       "2       F33  Sacos y Mallas Extruidas           010             170.252632   \n",
       "3       F33  Sacos y Mallas Extruidas           010             170.252632   \n",
       "4       F33  Sacos y Mallas Extruidas           010             170.252632   \n",
       "5       F33  Sacos y Mallas Extruidas           010             170.252632   \n",
       "6       F33  Sacos y Mallas Extruidas           010             170.252632   \n",
       "7       F33  Sacos y Mallas Extruidas           010             170.252632   \n",
       "8       F33  Sacos y Mallas Extruidas           010             170.252632   \n",
       "9       F33  Sacos y Mallas Extruidas           010             170.252632   \n",
       "\n",
       "  margen_(€) unidades_presupuesto %_margen presupuesto_mes  \n",
       "0        NaN             4.281053      NaN        0.043516  \n",
       "1        NaN             4.281053      NaN        0.052159  \n",
       "2        NaN             4.281053      NaN        0.115589  \n",
       "3        NaN             4.281053      NaN        0.115589  \n",
       "4        NaN             4.281053      NaN        0.071314  \n",
       "5        NaN             4.281053      NaN        0.043516  \n",
       "6        NaN             4.281053      NaN        0.034062  \n",
       "7        NaN             4.281053      NaN        0.099323  \n",
       "8        NaN             4.281053      NaN        0.069538  \n",
       "9        NaN             4.281053      NaN        0.046094  \n",
       "\n",
       "[10 rows x 30 columns]"
      ]
     },
     "execution_count": 26,
     "metadata": {},
     "output_type": "execute_result"
    }
   ],
   "source": [
    "print(df_final.shape)\n",
    "df_final.head(10)"
   ]
  },
  {
   "cell_type": "code",
   "execution_count": 27,
   "id": "af843e26",
   "metadata": {},
   "outputs": [
    {
     "name": "stdout",
     "output_type": "stream",
     "text": [
      "<class 'pandas.core.frame.DataFrame'>\n",
      "RangeIndex: 44623 entries, 0 to 44622\n",
      "Data columns (total 30 columns):\n",
      " #   Column                    Non-Null Count  Dtype         \n",
      "---  ------                    --------------  -----         \n",
      " 0   cod_empresa               44623 non-null  int64         \n",
      " 1   idcustomer                44623 non-null  object        \n",
      " 2   fecha                     44623 non-null  datetime64[ns]\n",
      " 3   idarticle                 44623 non-null  object        \n",
      " 4   unidades_ventas           44623 non-null  float64       \n",
      " 5   ventas_(€)_ventas         44623 non-null  float64       \n",
      " 6   costamount                44623 non-null  float64       \n",
      " 7   idpaymentmethod           44623 non-null  object        \n",
      " 8   documento                 44623 non-null  object        \n",
      " 9   codcustomer               44623 non-null  int64         \n",
      " 10  cliente                   44623 non-null  object        \n",
      " 11  tipo_cliente              44623 non-null  object        \n",
      " 12  tipoasiento               44623 non-null  object        \n",
      " 13  codproductline            44623 non-null  object        \n",
      " 14  macrofamilia_ventas       44623 non-null  object        \n",
      " 15  codproductfamily          44623 non-null  object        \n",
      " 16  familia_ventas            44623 non-null  object        \n",
      " 17  codproductsubfamily       44623 non-null  object        \n",
      " 18  subfamilia                44623 non-null  object        \n",
      " 19  mes                       44623 non-null  object        \n",
      " 20  cod_macrofamilia          42120 non-null  object        \n",
      " 21  macrofamilia_presupuesto  42120 non-null  object        \n",
      " 22  codfamila                 42120 non-null  object        \n",
      " 23  familia_presupuesto       42120 non-null  object        \n",
      " 24  codsubfamilia             42120 non-null  object        \n",
      " 25  ventas_(€)_presupuesto    42120 non-null  float64       \n",
      " 26  margen_(€)                0 non-null      float64       \n",
      " 27  unidades_presupuesto      42120 non-null  float64       \n",
      " 28  %_margen                  0 non-null      float64       \n",
      " 29  presupuesto_mes           42120 non-null  float64       \n",
      "dtypes: datetime64[ns](1), float64(8), int64(2), object(19)\n",
      "memory usage: 10.2+ MB\n"
     ]
    }
   ],
   "source": [
    "df_final.info()"
   ]
  },
  {
   "cell_type": "markdown",
   "id": "9dafeb2a",
   "metadata": {},
   "source": [
    "## Revisar nulos"
   ]
  },
  {
   "cell_type": "code",
   "execution_count": 30,
   "id": "23401303",
   "metadata": {},
   "outputs": [
    {
     "data": {
      "application/vnd.microsoft.datawrangler.viewer.v0+json": {
       "columns": [
        {
         "name": "index",
         "rawType": "object",
         "type": "string"
        },
        {
         "name": "0",
         "rawType": "int64",
         "type": "integer"
        }
       ],
       "ref": "a519c4c8-5289-47ed-97b7-27866aa0dc7d",
       "rows": [
        [
         "cod_empresa",
         "0"
        ],
        [
         "idcustomer",
         "0"
        ],
        [
         "fecha",
         "0"
        ],
        [
         "idarticle",
         "0"
        ],
        [
         "unidades_ventas",
         "0"
        ],
        [
         "ventas_(€)_ventas",
         "0"
        ],
        [
         "costamount",
         "0"
        ],
        [
         "idpaymentmethod",
         "0"
        ],
        [
         "documento",
         "0"
        ],
        [
         "codcustomer",
         "0"
        ],
        [
         "cliente",
         "0"
        ],
        [
         "tipo_cliente",
         "0"
        ],
        [
         "tipoasiento",
         "0"
        ],
        [
         "codproductline",
         "0"
        ],
        [
         "macrofamilia_ventas",
         "0"
        ],
        [
         "codproductfamily",
         "0"
        ],
        [
         "familia_ventas",
         "0"
        ],
        [
         "codproductsubfamily",
         "0"
        ],
        [
         "subfamilia",
         "0"
        ],
        [
         "mes",
         "0"
        ],
        [
         "cod_macrofamilia",
         "2503"
        ],
        [
         "macrofamilia_presupuesto",
         "2503"
        ],
        [
         "codfamila",
         "2503"
        ],
        [
         "familia_presupuesto",
         "2503"
        ],
        [
         "codsubfamilia",
         "2503"
        ],
        [
         "ventas_(€)_presupuesto",
         "2503"
        ],
        [
         "margen_(€)",
         "44623"
        ],
        [
         "unidades_presupuesto",
         "2503"
        ],
        [
         "%_margen",
         "44623"
        ],
        [
         "presupuesto_mes",
         "2503"
        ]
       ],
       "shape": {
        "columns": 1,
        "rows": 30
       }
      },
      "text/plain": [
       "cod_empresa                     0\n",
       "idcustomer                      0\n",
       "fecha                           0\n",
       "idarticle                       0\n",
       "unidades_ventas                 0\n",
       "ventas_(€)_ventas               0\n",
       "costamount                      0\n",
       "idpaymentmethod                 0\n",
       "documento                       0\n",
       "codcustomer                     0\n",
       "cliente                         0\n",
       "tipo_cliente                    0\n",
       "tipoasiento                     0\n",
       "codproductline                  0\n",
       "macrofamilia_ventas             0\n",
       "codproductfamily                0\n",
       "familia_ventas                  0\n",
       "codproductsubfamily             0\n",
       "subfamilia                      0\n",
       "mes                             0\n",
       "cod_macrofamilia             2503\n",
       "macrofamilia_presupuesto     2503\n",
       "codfamila                    2503\n",
       "familia_presupuesto          2503\n",
       "codsubfamilia                2503\n",
       "ventas_(€)_presupuesto       2503\n",
       "margen_(€)                  44623\n",
       "unidades_presupuesto         2503\n",
       "%_margen                    44623\n",
       "presupuesto_mes              2503\n",
       "dtype: int64"
      ]
     },
     "execution_count": 30,
     "metadata": {},
     "output_type": "execute_result"
    }
   ],
   "source": [
    "df_final.isnull().sum()"
   ]
  },
  {
   "cell_type": "markdown",
   "id": "425e9f77",
   "metadata": {},
   "source": [
    "## Revisar duplicados"
   ]
  },
  {
   "cell_type": "code",
   "execution_count": 31,
   "id": "37796b03",
   "metadata": {},
   "outputs": [
    {
     "name": "stdout",
     "output_type": "stream",
     "text": [
      "Número de filas duplicadas: 6536\n"
     ]
    }
   ],
   "source": [
    "duplicados = df_final.duplicated()\n",
    "print(\"Número de filas duplicadas:\", duplicados.sum())"
   ]
  },
  {
   "cell_type": "code",
   "execution_count": 32,
   "id": "6c99c8bf",
   "metadata": {},
   "outputs": [],
   "source": [
    "df_final = df_final.drop_duplicates()"
   ]
  },
  {
   "cell_type": "markdown",
   "id": "75af340a",
   "metadata": {},
   "source": [
    "## Guardar dataframe final"
   ]
  },
  {
   "cell_type": "code",
   "execution_count": 33,
   "id": "ae8543a2",
   "metadata": {},
   "outputs": [],
   "source": [
    "df_final.to_csv(r\"C:\\Users\\smp\\OneDrive - Grupo JJChicolino\\THE POWER\\PROYECTOFINALEDA\\data\\output\\final\\df_final.csv\", index=False)"
   ]
  },
  {
   "cell_type": "code",
   "execution_count": 470,
   "id": "5c7c23d9",
   "metadata": {},
   "outputs": [],
   "source": [
    "df_final.to_excel(r\"C:\\Users\\smp\\OneDrive - Grupo JJChicolino\\THE POWER\\PROYECTOFINALEDA\\data\\output\\final\\df_final.xlsx\", index=False)"
   ]
  },
  {
   "cell_type": "code",
   "execution_count": 34,
   "id": "b19f54a2",
   "metadata": {},
   "outputs": [],
   "source": [
    "import os\n",
    "\n",
    "ruta_final = r\"C:\\Users\\smp\\OneDrive - Grupo JJChicolino\\THE POWER\\PROYECTOFINALEDA\\data\\output\\final\"\n",
    "os.makedirs(ruta_final, exist_ok=True)"
   ]
  }
 ],
 "metadata": {
  "kernelspec": {
   "display_name": "Python 3",
   "language": "python",
   "name": "python3"
  },
  "language_info": {
   "codemirror_mode": {
    "name": "ipython",
    "version": 3
   },
   "file_extension": ".py",
   "mimetype": "text/x-python",
   "name": "python",
   "nbconvert_exporter": "python",
   "pygments_lexer": "ipython3",
   "version": "3.13.2"
  }
 },
 "nbformat": 4,
 "nbformat_minor": 5
}
