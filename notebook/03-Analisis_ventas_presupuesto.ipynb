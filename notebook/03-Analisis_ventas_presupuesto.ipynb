{
 "cells": [
  {
   "cell_type": "code",
   "execution_count": 203,
   "id": "1355d969",
   "metadata": {},
   "outputs": [],
   "source": [
    "import pandas as pd"
   ]
  },
  {
   "cell_type": "markdown",
   "id": "c014f50f",
   "metadata": {},
   "source": [
    "## Definir carpeta de salida"
   ]
  },
  {
   "cell_type": "code",
   "execution_count": 204,
   "id": "101e395e",
   "metadata": {},
   "outputs": [],
   "source": [
    "ruta_base = r\"C:\\Users\\smp\\OneDrive - Grupo JJChicolino\\THE POWER\\PROYECTOFINALEDA\\data\\output\""
   ]
  },
  {
   "cell_type": "markdown",
   "id": "3bbca352",
   "metadata": {},
   "source": [
    "## Cargar datasets limpios"
   ]
  },
  {
   "cell_type": "code",
   "execution_count": 205,
   "id": "1f678743",
   "metadata": {},
   "outputs": [],
   "source": [
    "df2 = pd.read_csv(ruta_base + r\"\\ventas2024_limpio.csv\")       # ventas\n",
    "df3 = pd.read_excel(ruta_base + r\"\\presupuesto2024_limpio.xlsx\")  # presupuesto"
   ]
  },
  {
   "cell_type": "code",
   "execution_count": 206,
   "id": "b441b547",
   "metadata": {},
   "outputs": [
    {
     "data": {
      "application/vnd.microsoft.datawrangler.viewer.v0+json": {
       "columns": [
        {
         "name": "index",
         "rawType": "int64",
         "type": "integer"
        },
        {
         "name": "codcompany",
         "rawType": "int64",
         "type": "integer"
        },
        {
         "name": "idcustomer",
         "rawType": "object",
         "type": "string"
        },
        {
         "name": "fecha",
         "rawType": "object",
         "type": "string"
        },
        {
         "name": "idarticle",
         "rawType": "object",
         "type": "string"
        },
        {
         "name": "quantity",
         "rawType": "float64",
         "type": "float"
        },
        {
         "name": "saleamount",
         "rawType": "float64",
         "type": "float"
        },
        {
         "name": "costamount",
         "rawType": "float64",
         "type": "float"
        },
        {
         "name": "idpaymentmethod",
         "rawType": "object",
         "type": "string"
        },
        {
         "name": "documento",
         "rawType": "object",
         "type": "string"
        },
        {
         "name": "codcustomer",
         "rawType": "int64",
         "type": "integer"
        },
        {
         "name": "cliente",
         "rawType": "object",
         "type": "string"
        },
        {
         "name": "codvouchertype",
         "rawType": "int64",
         "type": "integer"
        },
        {
         "name": "tipoasiento",
         "rawType": "object",
         "type": "string"
        },
        {
         "name": "codproductline",
         "rawType": "object",
         "type": "string"
        },
        {
         "name": "macrofamilia",
         "rawType": "object",
         "type": "string"
        },
        {
         "name": "codproductfamily",
         "rawType": "object",
         "type": "string"
        },
        {
         "name": "familia",
         "rawType": "object",
         "type": "string"
        },
        {
         "name": "codproductsubfamily",
         "rawType": "object",
         "type": "string"
        },
        {
         "name": "subfamilia",
         "rawType": "object",
         "type": "string"
        }
       ],
       "ref": "63f8ac02-57c0-4947-b296-1302694eaeeb",
       "rows": [
        [
         "0",
         "1",
         "001-003451",
         "2024-06-28",
         "001-010a055050tr",
         "86.0",
         "1316.66",
         "1316.66",
         "95839b62-ccc4-4a70-a894-012c7d43a5bb",
         "24A060136",
         "3451",
         "ENVASES DE GALICIA, S.A.U. (EGALSA)",
         "10",
         "VENTAS NACIONALES",
         "MF6",
         "Envases y Embalajes",
         "F33",
         "Sacos y Mallas Extruidas",
         "010",
         "MALLA MOLUSCOS"
        ],
        [
         "1",
         "1",
         "001-003451",
         "2024-01-31",
         "001-010a055050tr",
         "50.0",
         "705.0",
         "705.0",
         "95839b62-ccc4-4a70-a894-012c7d43a5bb",
         "24A010160",
         "3451",
         "ENVASES DE GALICIA, S.A.U. (EGALSA)",
         "10",
         "VENTAS NACIONALES",
         "MF6",
         "Envases y Embalajes",
         "F33",
         "Sacos y Mallas Extruidas",
         "010",
         "MALLA MOLUSCOS"
        ],
        [
         "2",
         "1",
         "001-003451",
         "2024-10-31",
         "001-010a055050tr",
         "5.0",
         "76.55",
         "76.55",
         "95839b62-ccc4-4a70-a894-012c7d43a5bb",
         "24A100186",
         "3451",
         "ENVASES DE GALICIA, S.A.U. (EGALSA)",
         "10",
         "VENTAS NACIONALES",
         "MF6",
         "Envases y Embalajes",
         "F33",
         "Sacos y Mallas Extruidas",
         "010",
         "MALLA MOLUSCOS"
        ],
        [
         "3",
         "1",
         "001-003451",
         "2024-10-31",
         "001-010a073650az",
         "3.0",
         "62.37",
         "62.37",
         "95839b62-ccc4-4a70-a894-012c7d43a5bb",
         "24A100186",
         "3451",
         "ENVASES DE GALICIA, S.A.U. (EGALSA)",
         "10",
         "VENTAS NACIONALES",
         "MF6",
         "Envases y Embalajes",
         "F33",
         "Sacos y Mallas Extruidas",
         "010",
         "MALLA MOLUSCOS"
        ],
        [
         "4",
         "1",
         "001-003451",
         "2024-11-29",
         "001-010a073650az",
         "11.0",
         "228.69",
         "228.69",
         "95839b62-ccc4-4a70-a894-012c7d43a5bb",
         "24A110174",
         "3451",
         "ENVASES DE GALICIA, S.A.U. (EGALSA)",
         "10",
         "VENTAS NACIONALES",
         "MF6",
         "Envases y Embalajes",
         "F33",
         "Sacos y Mallas Extruidas",
         "010",
         "MALLA MOLUSCOS"
        ]
       ],
       "shape": {
        "columns": 19,
        "rows": 5
       }
      },
      "text/html": [
       "<div>\n",
       "<style scoped>\n",
       "    .dataframe tbody tr th:only-of-type {\n",
       "        vertical-align: middle;\n",
       "    }\n",
       "\n",
       "    .dataframe tbody tr th {\n",
       "        vertical-align: top;\n",
       "    }\n",
       "\n",
       "    .dataframe thead th {\n",
       "        text-align: right;\n",
       "    }\n",
       "</style>\n",
       "<table border=\"1\" class=\"dataframe\">\n",
       "  <thead>\n",
       "    <tr style=\"text-align: right;\">\n",
       "      <th></th>\n",
       "      <th>codcompany</th>\n",
       "      <th>idcustomer</th>\n",
       "      <th>fecha</th>\n",
       "      <th>idarticle</th>\n",
       "      <th>quantity</th>\n",
       "      <th>saleamount</th>\n",
       "      <th>costamount</th>\n",
       "      <th>idpaymentmethod</th>\n",
       "      <th>documento</th>\n",
       "      <th>codcustomer</th>\n",
       "      <th>cliente</th>\n",
       "      <th>codvouchertype</th>\n",
       "      <th>tipoasiento</th>\n",
       "      <th>codproductline</th>\n",
       "      <th>macrofamilia</th>\n",
       "      <th>codproductfamily</th>\n",
       "      <th>familia</th>\n",
       "      <th>codproductsubfamily</th>\n",
       "      <th>subfamilia</th>\n",
       "    </tr>\n",
       "  </thead>\n",
       "  <tbody>\n",
       "    <tr>\n",
       "      <th>0</th>\n",
       "      <td>1</td>\n",
       "      <td>001-003451</td>\n",
       "      <td>2024-06-28</td>\n",
       "      <td>001-010a055050tr</td>\n",
       "      <td>86.0</td>\n",
       "      <td>1316.66</td>\n",
       "      <td>1316.66</td>\n",
       "      <td>95839b62-ccc4-4a70-a894-012c7d43a5bb</td>\n",
       "      <td>24A060136</td>\n",
       "      <td>3451</td>\n",
       "      <td>ENVASES DE GALICIA, S.A.U. (EGALSA)</td>\n",
       "      <td>10</td>\n",
       "      <td>VENTAS NACIONALES</td>\n",
       "      <td>MF6</td>\n",
       "      <td>Envases y Embalajes</td>\n",
       "      <td>F33</td>\n",
       "      <td>Sacos y Mallas Extruidas</td>\n",
       "      <td>010</td>\n",
       "      <td>MALLA MOLUSCOS</td>\n",
       "    </tr>\n",
       "    <tr>\n",
       "      <th>1</th>\n",
       "      <td>1</td>\n",
       "      <td>001-003451</td>\n",
       "      <td>2024-01-31</td>\n",
       "      <td>001-010a055050tr</td>\n",
       "      <td>50.0</td>\n",
       "      <td>705.00</td>\n",
       "      <td>705.00</td>\n",
       "      <td>95839b62-ccc4-4a70-a894-012c7d43a5bb</td>\n",
       "      <td>24A010160</td>\n",
       "      <td>3451</td>\n",
       "      <td>ENVASES DE GALICIA, S.A.U. (EGALSA)</td>\n",
       "      <td>10</td>\n",
       "      <td>VENTAS NACIONALES</td>\n",
       "      <td>MF6</td>\n",
       "      <td>Envases y Embalajes</td>\n",
       "      <td>F33</td>\n",
       "      <td>Sacos y Mallas Extruidas</td>\n",
       "      <td>010</td>\n",
       "      <td>MALLA MOLUSCOS</td>\n",
       "    </tr>\n",
       "    <tr>\n",
       "      <th>2</th>\n",
       "      <td>1</td>\n",
       "      <td>001-003451</td>\n",
       "      <td>2024-10-31</td>\n",
       "      <td>001-010a055050tr</td>\n",
       "      <td>5.0</td>\n",
       "      <td>76.55</td>\n",
       "      <td>76.55</td>\n",
       "      <td>95839b62-ccc4-4a70-a894-012c7d43a5bb</td>\n",
       "      <td>24A100186</td>\n",
       "      <td>3451</td>\n",
       "      <td>ENVASES DE GALICIA, S.A.U. (EGALSA)</td>\n",
       "      <td>10</td>\n",
       "      <td>VENTAS NACIONALES</td>\n",
       "      <td>MF6</td>\n",
       "      <td>Envases y Embalajes</td>\n",
       "      <td>F33</td>\n",
       "      <td>Sacos y Mallas Extruidas</td>\n",
       "      <td>010</td>\n",
       "      <td>MALLA MOLUSCOS</td>\n",
       "    </tr>\n",
       "    <tr>\n",
       "      <th>3</th>\n",
       "      <td>1</td>\n",
       "      <td>001-003451</td>\n",
       "      <td>2024-10-31</td>\n",
       "      <td>001-010a073650az</td>\n",
       "      <td>3.0</td>\n",
       "      <td>62.37</td>\n",
       "      <td>62.37</td>\n",
       "      <td>95839b62-ccc4-4a70-a894-012c7d43a5bb</td>\n",
       "      <td>24A100186</td>\n",
       "      <td>3451</td>\n",
       "      <td>ENVASES DE GALICIA, S.A.U. (EGALSA)</td>\n",
       "      <td>10</td>\n",
       "      <td>VENTAS NACIONALES</td>\n",
       "      <td>MF6</td>\n",
       "      <td>Envases y Embalajes</td>\n",
       "      <td>F33</td>\n",
       "      <td>Sacos y Mallas Extruidas</td>\n",
       "      <td>010</td>\n",
       "      <td>MALLA MOLUSCOS</td>\n",
       "    </tr>\n",
       "    <tr>\n",
       "      <th>4</th>\n",
       "      <td>1</td>\n",
       "      <td>001-003451</td>\n",
       "      <td>2024-11-29</td>\n",
       "      <td>001-010a073650az</td>\n",
       "      <td>11.0</td>\n",
       "      <td>228.69</td>\n",
       "      <td>228.69</td>\n",
       "      <td>95839b62-ccc4-4a70-a894-012c7d43a5bb</td>\n",
       "      <td>24A110174</td>\n",
       "      <td>3451</td>\n",
       "      <td>ENVASES DE GALICIA, S.A.U. (EGALSA)</td>\n",
       "      <td>10</td>\n",
       "      <td>VENTAS NACIONALES</td>\n",
       "      <td>MF6</td>\n",
       "      <td>Envases y Embalajes</td>\n",
       "      <td>F33</td>\n",
       "      <td>Sacos y Mallas Extruidas</td>\n",
       "      <td>010</td>\n",
       "      <td>MALLA MOLUSCOS</td>\n",
       "    </tr>\n",
       "  </tbody>\n",
       "</table>\n",
       "</div>"
      ],
      "text/plain": [
       "   codcompany  idcustomer       fecha         idarticle  quantity  saleamount  \\\n",
       "0           1  001-003451  2024-06-28  001-010a055050tr      86.0     1316.66   \n",
       "1           1  001-003451  2024-01-31  001-010a055050tr      50.0      705.00   \n",
       "2           1  001-003451  2024-10-31  001-010a055050tr       5.0       76.55   \n",
       "3           1  001-003451  2024-10-31  001-010a073650az       3.0       62.37   \n",
       "4           1  001-003451  2024-11-29  001-010a073650az      11.0      228.69   \n",
       "\n",
       "   costamount                       idpaymentmethod  documento  codcustomer  \\\n",
       "0     1316.66  95839b62-ccc4-4a70-a894-012c7d43a5bb  24A060136         3451   \n",
       "1      705.00  95839b62-ccc4-4a70-a894-012c7d43a5bb  24A010160         3451   \n",
       "2       76.55  95839b62-ccc4-4a70-a894-012c7d43a5bb  24A100186         3451   \n",
       "3       62.37  95839b62-ccc4-4a70-a894-012c7d43a5bb  24A100186         3451   \n",
       "4      228.69  95839b62-ccc4-4a70-a894-012c7d43a5bb  24A110174         3451   \n",
       "\n",
       "                               cliente  codvouchertype        tipoasiento  \\\n",
       "0  ENVASES DE GALICIA, S.A.U. (EGALSA)              10  VENTAS NACIONALES   \n",
       "1  ENVASES DE GALICIA, S.A.U. (EGALSA)              10  VENTAS NACIONALES   \n",
       "2  ENVASES DE GALICIA, S.A.U. (EGALSA)              10  VENTAS NACIONALES   \n",
       "3  ENVASES DE GALICIA, S.A.U. (EGALSA)              10  VENTAS NACIONALES   \n",
       "4  ENVASES DE GALICIA, S.A.U. (EGALSA)              10  VENTAS NACIONALES   \n",
       "\n",
       "  codproductline         macrofamilia codproductfamily  \\\n",
       "0            MF6  Envases y Embalajes              F33   \n",
       "1            MF6  Envases y Embalajes              F33   \n",
       "2            MF6  Envases y Embalajes              F33   \n",
       "3            MF6  Envases y Embalajes              F33   \n",
       "4            MF6  Envases y Embalajes              F33   \n",
       "\n",
       "                    familia codproductsubfamily      subfamilia  \n",
       "0  Sacos y Mallas Extruidas                 010  MALLA MOLUSCOS  \n",
       "1  Sacos y Mallas Extruidas                 010  MALLA MOLUSCOS  \n",
       "2  Sacos y Mallas Extruidas                 010  MALLA MOLUSCOS  \n",
       "3  Sacos y Mallas Extruidas                 010  MALLA MOLUSCOS  \n",
       "4  Sacos y Mallas Extruidas                 010  MALLA MOLUSCOS  "
      ]
     },
     "execution_count": 206,
     "metadata": {},
     "output_type": "execute_result"
    }
   ],
   "source": [
    "df2.head()"
   ]
  },
  {
   "cell_type": "code",
   "execution_count": 207,
   "id": "5165a8d9",
   "metadata": {},
   "outputs": [
    {
     "data": {
      "application/vnd.microsoft.datawrangler.viewer.v0+json": {
       "columns": [
        {
         "name": "index",
         "rawType": "int64",
         "type": "integer"
        },
        {
         "name": "cod_empresa",
         "rawType": "int64",
         "type": "integer"
        },
        {
         "name": "cod_macrofamilia",
         "rawType": "object",
         "type": "string"
        },
        {
         "name": "macrofamilia",
         "rawType": "object",
         "type": "string"
        },
        {
         "name": "codfamila",
         "rawType": "object",
         "type": "string"
        },
        {
         "name": "familia",
         "rawType": "object",
         "type": "string"
        },
        {
         "name": "codsubfamilia",
         "rawType": "object",
         "type": "string"
        },
        {
         "name": "subfamilia",
         "rawType": "object",
         "type": "string"
        },
        {
         "name": "tipo_cliente",
         "rawType": "int64",
         "type": "integer"
        },
        {
         "name": "ventas_(€)",
         "rawType": "float64",
         "type": "float"
        },
        {
         "name": "unidades",
         "rawType": "float64",
         "type": "float"
        },
        {
         "name": "mes",
         "rawType": "object",
         "type": "string"
        },
        {
         "name": "presupuesto_mes",
         "rawType": "float64",
         "type": "float"
        },
        {
         "name": "month",
         "rawType": "int64",
         "type": "integer"
        },
        {
         "name": "year",
         "rawType": "int64",
         "type": "integer"
        },
        {
         "name": "month_name",
         "rawType": "object",
         "type": "string"
        }
       ],
       "ref": "f77d5b66-8d52-4f4d-a975-2e1b3655bdd5",
       "rows": [
        [
         "0",
         "1",
         "MF3",
         "Consumibles Miticultura",
         "F10",
         "Cuerdas Cultivo Mejillón",
         "032",
         "CUERDAS \"TIBURON\"",
         "11",
         "139810.0",
         "13889.74717742669",
         "enero",
         "0.03431730088094254",
         "1",
         "2024",
         "2024-01"
        ],
        [
         "1",
         "1",
         "MF3",
         "Consumibles Miticultura",
         "F10",
         "Cuerdas Cultivo Mejillón",
         "033",
         "CUERDAS DE CAPTACIÓN",
         "11",
         "3473.684210526316",
         "2631.578947368421",
         "enero",
         "0.03431730088094254",
         "1",
         "2024",
         "2024-01"
        ],
        [
         "2",
         "1",
         "MF3",
         "Consumibles Miticultura",
         "F10",
         "Cuerdas Cultivo Mejillón",
         "033",
         "CUERDAS DE CAPTACIÓN",
         "10",
         "0.0",
         "0.0",
         "enero",
         "0.1506954348260793",
         "1",
         "2024",
         "2024-01"
        ],
        [
         "3",
         "1",
         "MF3",
         "Consumibles Miticultura",
         "F10",
         "Cuerdas Cultivo Mejillón",
         "030",
         "CUERDAS SIN EMPALILLAR",
         "11",
         "4481.052631578948",
         "1421.052631578948",
         "enero",
         "0.03431730088094254",
         "1",
         "2024",
         "2024-01"
        ],
        [
         "4",
         "1",
         "MF3",
         "Consumibles Miticultura",
         "F10",
         "Cuerdas Cultivo Mejillón",
         "030",
         "CUERDAS SIN EMPALILLAR",
         "10",
         "8037.747368421052",
         "1802.105263157895",
         "enero",
         "0.1506954348260793",
         "1",
         "2024",
         "2024-01"
        ]
       ],
       "shape": {
        "columns": 15,
        "rows": 5
       }
      },
      "text/html": [
       "<div>\n",
       "<style scoped>\n",
       "    .dataframe tbody tr th:only-of-type {\n",
       "        vertical-align: middle;\n",
       "    }\n",
       "\n",
       "    .dataframe tbody tr th {\n",
       "        vertical-align: top;\n",
       "    }\n",
       "\n",
       "    .dataframe thead th {\n",
       "        text-align: right;\n",
       "    }\n",
       "</style>\n",
       "<table border=\"1\" class=\"dataframe\">\n",
       "  <thead>\n",
       "    <tr style=\"text-align: right;\">\n",
       "      <th></th>\n",
       "      <th>cod_empresa</th>\n",
       "      <th>cod_macrofamilia</th>\n",
       "      <th>macrofamilia</th>\n",
       "      <th>codfamila</th>\n",
       "      <th>familia</th>\n",
       "      <th>codsubfamilia</th>\n",
       "      <th>subfamilia</th>\n",
       "      <th>tipo_cliente</th>\n",
       "      <th>ventas_(€)</th>\n",
       "      <th>unidades</th>\n",
       "      <th>mes</th>\n",
       "      <th>presupuesto_mes</th>\n",
       "      <th>month</th>\n",
       "      <th>year</th>\n",
       "      <th>month_name</th>\n",
       "    </tr>\n",
       "  </thead>\n",
       "  <tbody>\n",
       "    <tr>\n",
       "      <th>0</th>\n",
       "      <td>1</td>\n",
       "      <td>MF3</td>\n",
       "      <td>Consumibles Miticultura</td>\n",
       "      <td>F10</td>\n",
       "      <td>Cuerdas Cultivo Mejillón</td>\n",
       "      <td>032</td>\n",
       "      <td>CUERDAS \"TIBURON\"</td>\n",
       "      <td>11</td>\n",
       "      <td>139810.000000</td>\n",
       "      <td>13889.747177</td>\n",
       "      <td>enero</td>\n",
       "      <td>0.034317</td>\n",
       "      <td>1</td>\n",
       "      <td>2024</td>\n",
       "      <td>2024-01</td>\n",
       "    </tr>\n",
       "    <tr>\n",
       "      <th>1</th>\n",
       "      <td>1</td>\n",
       "      <td>MF3</td>\n",
       "      <td>Consumibles Miticultura</td>\n",
       "      <td>F10</td>\n",
       "      <td>Cuerdas Cultivo Mejillón</td>\n",
       "      <td>033</td>\n",
       "      <td>CUERDAS DE CAPTACIÓN</td>\n",
       "      <td>11</td>\n",
       "      <td>3473.684211</td>\n",
       "      <td>2631.578947</td>\n",
       "      <td>enero</td>\n",
       "      <td>0.034317</td>\n",
       "      <td>1</td>\n",
       "      <td>2024</td>\n",
       "      <td>2024-01</td>\n",
       "    </tr>\n",
       "    <tr>\n",
       "      <th>2</th>\n",
       "      <td>1</td>\n",
       "      <td>MF3</td>\n",
       "      <td>Consumibles Miticultura</td>\n",
       "      <td>F10</td>\n",
       "      <td>Cuerdas Cultivo Mejillón</td>\n",
       "      <td>033</td>\n",
       "      <td>CUERDAS DE CAPTACIÓN</td>\n",
       "      <td>10</td>\n",
       "      <td>0.000000</td>\n",
       "      <td>0.000000</td>\n",
       "      <td>enero</td>\n",
       "      <td>0.150695</td>\n",
       "      <td>1</td>\n",
       "      <td>2024</td>\n",
       "      <td>2024-01</td>\n",
       "    </tr>\n",
       "    <tr>\n",
       "      <th>3</th>\n",
       "      <td>1</td>\n",
       "      <td>MF3</td>\n",
       "      <td>Consumibles Miticultura</td>\n",
       "      <td>F10</td>\n",
       "      <td>Cuerdas Cultivo Mejillón</td>\n",
       "      <td>030</td>\n",
       "      <td>CUERDAS SIN EMPALILLAR</td>\n",
       "      <td>11</td>\n",
       "      <td>4481.052632</td>\n",
       "      <td>1421.052632</td>\n",
       "      <td>enero</td>\n",
       "      <td>0.034317</td>\n",
       "      <td>1</td>\n",
       "      <td>2024</td>\n",
       "      <td>2024-01</td>\n",
       "    </tr>\n",
       "    <tr>\n",
       "      <th>4</th>\n",
       "      <td>1</td>\n",
       "      <td>MF3</td>\n",
       "      <td>Consumibles Miticultura</td>\n",
       "      <td>F10</td>\n",
       "      <td>Cuerdas Cultivo Mejillón</td>\n",
       "      <td>030</td>\n",
       "      <td>CUERDAS SIN EMPALILLAR</td>\n",
       "      <td>10</td>\n",
       "      <td>8037.747368</td>\n",
       "      <td>1802.105263</td>\n",
       "      <td>enero</td>\n",
       "      <td>0.150695</td>\n",
       "      <td>1</td>\n",
       "      <td>2024</td>\n",
       "      <td>2024-01</td>\n",
       "    </tr>\n",
       "  </tbody>\n",
       "</table>\n",
       "</div>"
      ],
      "text/plain": [
       "   cod_empresa cod_macrofamilia             macrofamilia codfamila  \\\n",
       "0            1              MF3  Consumibles Miticultura       F10   \n",
       "1            1              MF3  Consumibles Miticultura       F10   \n",
       "2            1              MF3  Consumibles Miticultura       F10   \n",
       "3            1              MF3  Consumibles Miticultura       F10   \n",
       "4            1              MF3  Consumibles Miticultura       F10   \n",
       "\n",
       "                    familia codsubfamilia              subfamilia  \\\n",
       "0  Cuerdas Cultivo Mejillón           032       CUERDAS \"TIBURON\"   \n",
       "1  Cuerdas Cultivo Mejillón           033    CUERDAS DE CAPTACIÓN   \n",
       "2  Cuerdas Cultivo Mejillón           033    CUERDAS DE CAPTACIÓN   \n",
       "3  Cuerdas Cultivo Mejillón           030  CUERDAS SIN EMPALILLAR   \n",
       "4  Cuerdas Cultivo Mejillón           030  CUERDAS SIN EMPALILLAR   \n",
       "\n",
       "   tipo_cliente     ventas_(€)      unidades    mes  presupuesto_mes  month  \\\n",
       "0            11  139810.000000  13889.747177  enero         0.034317      1   \n",
       "1            11    3473.684211   2631.578947  enero         0.034317      1   \n",
       "2            10       0.000000      0.000000  enero         0.150695      1   \n",
       "3            11    4481.052632   1421.052632  enero         0.034317      1   \n",
       "4            10    8037.747368   1802.105263  enero         0.150695      1   \n",
       "\n",
       "   year month_name  \n",
       "0  2024    2024-01  \n",
       "1  2024    2024-01  \n",
       "2  2024    2024-01  \n",
       "3  2024    2024-01  \n",
       "4  2024    2024-01  "
      ]
     },
     "execution_count": 207,
     "metadata": {},
     "output_type": "execute_result"
    }
   ],
   "source": [
    "df3.head()"
   ]
  },
  {
   "cell_type": "markdown",
   "id": "7e9c074c",
   "metadata": {},
   "source": [
    "## viernes \n",
    "\n",
    "unir por  mes subfamilia tipocliente empresa \n",
    "\n"
   ]
  },
  {
   "cell_type": "markdown",
   "id": "3272e161",
   "metadata": {},
   "source": [
    "##  Verificar columnas"
   ]
  },
  {
   "cell_type": "markdown",
   "id": "400b31c0",
   "metadata": {},
   "source": [
    "## Realizar merge manteniendo todas las columnas de ventas"
   ]
  },
  {
   "cell_type": "markdown",
   "id": "425e9f77",
   "metadata": {},
   "source": [
    "## Revisar duplicados"
   ]
  },
  {
   "cell_type": "markdown",
   "id": "b392e3fa",
   "metadata": {},
   "source": [
    "## Comprobar valores nulos"
   ]
  },
  {
   "cell_type": "markdown",
   "id": "75af340a",
   "metadata": {},
   "source": [
    "## Guardar dataframe final"
   ]
  }
 ],
 "metadata": {
  "kernelspec": {
   "display_name": "Python 3",
   "language": "python",
   "name": "python3"
  },
  "language_info": {
   "codemirror_mode": {
    "name": "ipython",
    "version": 3
   },
   "file_extension": ".py",
   "mimetype": "text/x-python",
   "name": "python",
   "nbconvert_exporter": "python",
   "pygments_lexer": "ipython3",
   "version": "3.13.2"
  }
 },
 "nbformat": 4,
 "nbformat_minor": 5
}
