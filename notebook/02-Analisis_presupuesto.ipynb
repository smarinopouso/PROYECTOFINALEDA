{
 "cells": [
  {
   "cell_type": "code",
   "execution_count": 38,
   "id": "db614c78",
   "metadata": {},
   "outputs": [],
   "source": [
    "import pandas as pd"
   ]
  },
  {
   "cell_type": "code",
   "execution_count": 40,
   "id": "fa981d8a",
   "metadata": {},
   "outputs": [],
   "source": [
    "df3 = pd.read_excel(r\"C:/Users/smp/OneDrive - Grupo JJChicolino/THE POWER/PROYECTOFINALEDA/data/raw/presupuesto2024.xlsx\")\n"
   ]
  },
  {
   "cell_type": "code",
   "execution_count": 5,
   "id": "ce2042a0",
   "metadata": {},
   "outputs": [
    {
     "data": {
      "application/vnd.microsoft.datawrangler.viewer.v0+json": {
       "columns": [
        {
         "name": "index",
         "rawType": "int64",
         "type": "integer"
        },
        {
         "name": "Cod. Empresa",
         "rawType": "int64",
         "type": "integer"
        },
        {
         "name": "Cod. Macrofamilia",
         "rawType": "object",
         "type": "string"
        },
        {
         "name": "Macrofamilia",
         "rawType": "object",
         "type": "string"
        },
        {
         "name": "Cod.Famila",
         "rawType": "object",
         "type": "string"
        },
        {
         "name": "Familia",
         "rawType": "object",
         "type": "string"
        },
        {
         "name": "Cod.Subfamilia",
         "rawType": "object",
         "type": "string"
        },
        {
         "name": "Subfamilia",
         "rawType": "object",
         "type": "string"
        },
        {
         "name": "Tipo Cliente",
         "rawType": "object",
         "type": "string"
        },
        {
         "name": "Ventas (€)",
         "rawType": "float64",
         "type": "float"
        },
        {
         "name": "Margen (€)",
         "rawType": "float64",
         "type": "float"
        },
        {
         "name": "Unidades",
         "rawType": "float64",
         "type": "float"
        },
        {
         "name": "mes",
         "rawType": "float64",
         "type": "float"
        },
        {
         "name": "% Margen",
         "rawType": "float64",
         "type": "float"
        },
        {
         "name": "Enero",
         "rawType": "float64",
         "type": "float"
        },
        {
         "name": "Febrero",
         "rawType": "float64",
         "type": "float"
        },
        {
         "name": "Marzo",
         "rawType": "float64",
         "type": "float"
        },
        {
         "name": "Abril",
         "rawType": "float64",
         "type": "float"
        },
        {
         "name": "Mayo",
         "rawType": "float64",
         "type": "float"
        },
        {
         "name": "Junio",
         "rawType": "float64",
         "type": "float"
        },
        {
         "name": "Julio",
         "rawType": "float64",
         "type": "float"
        },
        {
         "name": "Agosto",
         "rawType": "float64",
         "type": "float"
        },
        {
         "name": "Septiembre",
         "rawType": "float64",
         "type": "float"
        },
        {
         "name": "Octubre",
         "rawType": "float64",
         "type": "float"
        },
        {
         "name": "Noviembre",
         "rawType": "float64",
         "type": "float"
        },
        {
         "name": "Diciembre",
         "rawType": "float64",
         "type": "float"
        }
       ],
       "ref": "2f8d6f3e-e5d5-4fd7-9929-6d839ecf2258",
       "rows": [
        [
         "219",
         "5",
         "MF8",
         "Maquinaria y SAT",
         "F35",
         "Consumibles SAT",
         "IPF2",
         "REPUESTOS IMPRESORA TERMICA INTERMEC PF2",
         "NACIONAL",
         "12135.815999999999",
         null,
         "74.40515086378524",
         null,
         null,
         "0.02799737712442644",
         "0.05617211537665449",
         "0.08846187757307777",
         "0.05302210344050208",
         "0.05698280376980583",
         "0.14008636618123055",
         "0.042258517858900925",
         "0.07040943839216185",
         "0.09199415904022627",
         "0.11475280115622989",
         "0.07340452369701993",
         "0.18445791638976394"
        ],
        [
         "367",
         "21",
         "MFR06",
         "Calderería Plastica y Metálica",
         "FR06A",
         "Calderería Plástica",
         "CP2",
         "CUSTOMIZADOS CUSTOM MOLDING",
         "EXPORTACION",
         "590.0",
         null,
         "1.0",
         null,
         null,
         "0.050637706988331685",
         "0.063718325877654",
         "0.05614158719333584",
         "0.02000737764573343",
         "0.026016890341253346",
         "0.03424307891392877",
         "0.027449763924170523",
         "0.3825812597954779",
         "0.03829992590804294",
         "0.03100582450365267",
         "0.029181276933423376",
         "0.24071698197499558"
        ],
        [
         "268",
         "5",
         "MF8",
         "Maquinaria y SAT",
         "FR04D",
         "Servicios SAT",
         "SVS",
         "SERVICIOS VARIOS SAT",
         "EXPORTACION",
         "4105.09090909091",
         null,
         "1.7656304985337248",
         null,
         null,
         "0.05913603315391693",
         "0.055202587781643504",
         "0.2113413356326838",
         "0.025146664829753827",
         "0.030148532597728088",
         "0.044620460096401825",
         "0.13843921711690324",
         "0.1890364373868353",
         "0.02979871326662513",
         "0.03893485615390168",
         "0.04671671239420953",
         "0.13147844958939722"
        ],
        [
         "501",
         "21",
         "MFR02",
         "Vruma",
         "FR02B",
         "Equipamiento",
         "V10",
         "ACCESORIOS",
         "EXPORTACION",
         "58.0",
         null,
         "2.0",
         null,
         null,
         "0.0013846404680645154",
         "0.0073603347213692175",
         "0.03626110207940841",
         "0.07524787447007619",
         "0.20676829639968072",
         "0.20728890840153247",
         "0.207891510880901",
         "0.14878871520709",
         "0.047948011229742175",
         "0.009928743993105693",
         "0.0030086325636418864",
         "0.04812322958538786"
        ],
        [
         "231",
         "5",
         "MF8",
         "Maquinaria y SAT",
         "F35",
         "Consumibles SAT",
         "PPM",
         "REPUESTOS PRECINTADORA",
         "NACIONAL",
         "1677.3120000000001",
         null,
         "45.405228200071704",
         null,
         null,
         "0.02799737712442644",
         "0.05617211537665449",
         "0.08846187757307777",
         "0.05302210344050208",
         "0.05698280376980583",
         "0.14008636618123055",
         "0.042258517858900925",
         "0.07040943839216185",
         "0.09199415904022627",
         "0.11475280115622989",
         "0.07340452369701993",
         "0.18445791638976394"
        ]
       ],
       "shape": {
        "columns": 25,
        "rows": 5
       }
      },
      "text/html": [
       "<div>\n",
       "<style scoped>\n",
       "    .dataframe tbody tr th:only-of-type {\n",
       "        vertical-align: middle;\n",
       "    }\n",
       "\n",
       "    .dataframe tbody tr th {\n",
       "        vertical-align: top;\n",
       "    }\n",
       "\n",
       "    .dataframe thead th {\n",
       "        text-align: right;\n",
       "    }\n",
       "</style>\n",
       "<table border=\"1\" class=\"dataframe\">\n",
       "  <thead>\n",
       "    <tr style=\"text-align: right;\">\n",
       "      <th></th>\n",
       "      <th>Cod. Empresa</th>\n",
       "      <th>Cod. Macrofamilia</th>\n",
       "      <th>Macrofamilia</th>\n",
       "      <th>Cod.Famila</th>\n",
       "      <th>Familia</th>\n",
       "      <th>Cod.Subfamilia</th>\n",
       "      <th>Subfamilia</th>\n",
       "      <th>Tipo Cliente</th>\n",
       "      <th>Ventas (€)</th>\n",
       "      <th>Margen (€)</th>\n",
       "      <th>...</th>\n",
       "      <th>Marzo</th>\n",
       "      <th>Abril</th>\n",
       "      <th>Mayo</th>\n",
       "      <th>Junio</th>\n",
       "      <th>Julio</th>\n",
       "      <th>Agosto</th>\n",
       "      <th>Septiembre</th>\n",
       "      <th>Octubre</th>\n",
       "      <th>Noviembre</th>\n",
       "      <th>Diciembre</th>\n",
       "    </tr>\n",
       "  </thead>\n",
       "  <tbody>\n",
       "    <tr>\n",
       "      <th>219</th>\n",
       "      <td>5</td>\n",
       "      <td>MF8</td>\n",
       "      <td>Maquinaria y SAT</td>\n",
       "      <td>F35</td>\n",
       "      <td>Consumibles SAT</td>\n",
       "      <td>IPF2</td>\n",
       "      <td>REPUESTOS IMPRESORA TERMICA INTERMEC PF2</td>\n",
       "      <td>NACIONAL</td>\n",
       "      <td>12135.816000</td>\n",
       "      <td>NaN</td>\n",
       "      <td>...</td>\n",
       "      <td>0.088462</td>\n",
       "      <td>0.053022</td>\n",
       "      <td>0.056983</td>\n",
       "      <td>0.140086</td>\n",
       "      <td>0.042259</td>\n",
       "      <td>0.070409</td>\n",
       "      <td>0.091994</td>\n",
       "      <td>0.114753</td>\n",
       "      <td>0.073405</td>\n",
       "      <td>0.184458</td>\n",
       "    </tr>\n",
       "    <tr>\n",
       "      <th>367</th>\n",
       "      <td>21</td>\n",
       "      <td>MFR06</td>\n",
       "      <td>Calderería Plastica y Metálica</td>\n",
       "      <td>FR06A</td>\n",
       "      <td>Calderería Plástica</td>\n",
       "      <td>CP2</td>\n",
       "      <td>CUSTOMIZADOS CUSTOM MOLDING</td>\n",
       "      <td>EXPORTACION</td>\n",
       "      <td>590.000000</td>\n",
       "      <td>NaN</td>\n",
       "      <td>...</td>\n",
       "      <td>0.056142</td>\n",
       "      <td>0.020007</td>\n",
       "      <td>0.026017</td>\n",
       "      <td>0.034243</td>\n",
       "      <td>0.027450</td>\n",
       "      <td>0.382581</td>\n",
       "      <td>0.038300</td>\n",
       "      <td>0.031006</td>\n",
       "      <td>0.029181</td>\n",
       "      <td>0.240717</td>\n",
       "    </tr>\n",
       "    <tr>\n",
       "      <th>268</th>\n",
       "      <td>5</td>\n",
       "      <td>MF8</td>\n",
       "      <td>Maquinaria y SAT</td>\n",
       "      <td>FR04D</td>\n",
       "      <td>Servicios SAT</td>\n",
       "      <td>SVS</td>\n",
       "      <td>SERVICIOS VARIOS SAT</td>\n",
       "      <td>EXPORTACION</td>\n",
       "      <td>4105.090909</td>\n",
       "      <td>NaN</td>\n",
       "      <td>...</td>\n",
       "      <td>0.211341</td>\n",
       "      <td>0.025147</td>\n",
       "      <td>0.030149</td>\n",
       "      <td>0.044620</td>\n",
       "      <td>0.138439</td>\n",
       "      <td>0.189036</td>\n",
       "      <td>0.029799</td>\n",
       "      <td>0.038935</td>\n",
       "      <td>0.046717</td>\n",
       "      <td>0.131478</td>\n",
       "    </tr>\n",
       "    <tr>\n",
       "      <th>501</th>\n",
       "      <td>21</td>\n",
       "      <td>MFR02</td>\n",
       "      <td>Vruma</td>\n",
       "      <td>FR02B</td>\n",
       "      <td>Equipamiento</td>\n",
       "      <td>V10</td>\n",
       "      <td>ACCESORIOS</td>\n",
       "      <td>EXPORTACION</td>\n",
       "      <td>58.000000</td>\n",
       "      <td>NaN</td>\n",
       "      <td>...</td>\n",
       "      <td>0.036261</td>\n",
       "      <td>0.075248</td>\n",
       "      <td>0.206768</td>\n",
       "      <td>0.207289</td>\n",
       "      <td>0.207892</td>\n",
       "      <td>0.148789</td>\n",
       "      <td>0.047948</td>\n",
       "      <td>0.009929</td>\n",
       "      <td>0.003009</td>\n",
       "      <td>0.048123</td>\n",
       "    </tr>\n",
       "    <tr>\n",
       "      <th>231</th>\n",
       "      <td>5</td>\n",
       "      <td>MF8</td>\n",
       "      <td>Maquinaria y SAT</td>\n",
       "      <td>F35</td>\n",
       "      <td>Consumibles SAT</td>\n",
       "      <td>PPM</td>\n",
       "      <td>REPUESTOS PRECINTADORA</td>\n",
       "      <td>NACIONAL</td>\n",
       "      <td>1677.312000</td>\n",
       "      <td>NaN</td>\n",
       "      <td>...</td>\n",
       "      <td>0.088462</td>\n",
       "      <td>0.053022</td>\n",
       "      <td>0.056983</td>\n",
       "      <td>0.140086</td>\n",
       "      <td>0.042259</td>\n",
       "      <td>0.070409</td>\n",
       "      <td>0.091994</td>\n",
       "      <td>0.114753</td>\n",
       "      <td>0.073405</td>\n",
       "      <td>0.184458</td>\n",
       "    </tr>\n",
       "  </tbody>\n",
       "</table>\n",
       "<p>5 rows × 25 columns</p>\n",
       "</div>"
      ],
      "text/plain": [
       "     Cod. Empresa Cod. Macrofamilia                    Macrofamilia  \\\n",
       "219             5               MF8                Maquinaria y SAT   \n",
       "367            21             MFR06  Calderería Plastica y Metálica   \n",
       "268             5               MF8                Maquinaria y SAT   \n",
       "501            21             MFR02                           Vruma   \n",
       "231             5               MF8                Maquinaria y SAT   \n",
       "\n",
       "    Cod.Famila              Familia Cod.Subfamilia  \\\n",
       "219        F35      Consumibles SAT           IPF2   \n",
       "367      FR06A  Calderería Plástica            CP2   \n",
       "268      FR04D        Servicios SAT            SVS   \n",
       "501      FR02B         Equipamiento            V10   \n",
       "231        F35      Consumibles SAT            PPM   \n",
       "\n",
       "                                   Subfamilia Tipo Cliente    Ventas (€)  \\\n",
       "219  REPUESTOS IMPRESORA TERMICA INTERMEC PF2     NACIONAL  12135.816000   \n",
       "367               CUSTOMIZADOS CUSTOM MOLDING  EXPORTACION    590.000000   \n",
       "268                      SERVICIOS VARIOS SAT  EXPORTACION   4105.090909   \n",
       "501                                ACCESORIOS  EXPORTACION     58.000000   \n",
       "231                    REPUESTOS PRECINTADORA     NACIONAL   1677.312000   \n",
       "\n",
       "     Margen (€)  ...     Marzo     Abril      Mayo     Junio     Julio  \\\n",
       "219         NaN  ...  0.088462  0.053022  0.056983  0.140086  0.042259   \n",
       "367         NaN  ...  0.056142  0.020007  0.026017  0.034243  0.027450   \n",
       "268         NaN  ...  0.211341  0.025147  0.030149  0.044620  0.138439   \n",
       "501         NaN  ...  0.036261  0.075248  0.206768  0.207289  0.207892   \n",
       "231         NaN  ...  0.088462  0.053022  0.056983  0.140086  0.042259   \n",
       "\n",
       "       Agosto  Septiembre   Octubre  Noviembre  Diciembre  \n",
       "219  0.070409    0.091994  0.114753   0.073405   0.184458  \n",
       "367  0.382581    0.038300  0.031006   0.029181   0.240717  \n",
       "268  0.189036    0.029799  0.038935   0.046717   0.131478  \n",
       "501  0.148789    0.047948  0.009929   0.003009   0.048123  \n",
       "231  0.070409    0.091994  0.114753   0.073405   0.184458  \n",
       "\n",
       "[5 rows x 25 columns]"
      ]
     },
     "execution_count": 5,
     "metadata": {},
     "output_type": "execute_result"
    }
   ],
   "source": [
    "df3.sample(5)"
   ]
  },
  {
   "cell_type": "code",
   "execution_count": 41,
   "id": "e3f97501",
   "metadata": {},
   "outputs": [
    {
     "name": "stdout",
     "output_type": "stream",
     "text": [
      "<class 'pandas.core.frame.DataFrame'>\n",
      "RangeIndex: 505 entries, 0 to 504\n",
      "Data columns (total 25 columns):\n",
      " #   Column             Non-Null Count  Dtype  \n",
      "---  ------             --------------  -----  \n",
      " 0   Cod. Empresa       505 non-null    int64  \n",
      " 1   Cod. Macrofamilia  505 non-null    object \n",
      " 2   Macrofamilia       505 non-null    object \n",
      " 3   Cod.Famila         505 non-null    object \n",
      " 4   Familia            505 non-null    object \n",
      " 5   Cod.Subfamilia     505 non-null    object \n",
      " 6   Subfamilia         505 non-null    object \n",
      " 7   Tipo Cliente       505 non-null    int64  \n",
      " 8   Ventas (€)         505 non-null    float64\n",
      " 9   Margen (€)         0 non-null      float64\n",
      " 10  Unidades           505 non-null    float64\n",
      " 11  mes                0 non-null      float64\n",
      " 12  % Margen           0 non-null      float64\n",
      " 13  Enero              505 non-null    float64\n",
      " 14  Febrero            505 non-null    float64\n",
      " 15  Marzo              505 non-null    float64\n",
      " 16  Abril              505 non-null    float64\n",
      " 17  Mayo               505 non-null    float64\n",
      " 18  Junio              505 non-null    float64\n",
      " 19  Julio              505 non-null    float64\n",
      " 20  Agosto             505 non-null    float64\n",
      " 21  Septiembre         505 non-null    float64\n",
      " 22  Octubre            505 non-null    float64\n",
      " 23  Noviembre          505 non-null    float64\n",
      " 24  Diciembre          505 non-null    float64\n",
      "dtypes: float64(17), int64(2), object(6)\n",
      "memory usage: 98.8+ KB\n"
     ]
    }
   ],
   "source": [
    "df3.info()"
   ]
  },
  {
   "cell_type": "markdown",
   "id": "faa4005a",
   "metadata": {},
   "source": [
    "## Limpiar y homogeneizar los nombres de columnas"
   ]
  },
  {
   "cell_type": "code",
   "execution_count": 42,
   "id": "b58cfab2",
   "metadata": {},
   "outputs": [
    {
     "data": {
      "text/plain": [
       "Index(['cod_empresa', 'cod_macrofamilia', 'macrofamilia', 'codfamila',\n",
       "       'familia', 'codsubfamilia', 'subfamilia', 'tipo_cliente', 'ventas_(€)',\n",
       "       'margen_(€)', 'unidades', 'mes', '%_margen', 'enero', 'febrero',\n",
       "       'marzo', 'abril', 'mayo', 'junio', 'julio', 'agosto', 'septiembre',\n",
       "       'octubre', 'noviembre', 'diciembre'],\n",
       "      dtype='object')"
      ]
     },
     "execution_count": 42,
     "metadata": {},
     "output_type": "execute_result"
    }
   ],
   "source": [
    "df3.columns = df3.columns.str.strip().str.lower().str.replace(' ', '_').str.replace('.', '')\n",
    "df3.columns"
   ]
  },
  {
   "cell_type": "markdown",
   "id": "b1cf5166",
   "metadata": {},
   "source": [
    "## Transformar columnas de meses en filas (de formato ancho a largo)\n",
    "\n",
    "-Definir columnas que no se \"meltan\"\n",
    "\n"
   ]
  },
  {
   "cell_type": "code",
   "execution_count": 43,
   "id": "3b7e7241",
   "metadata": {},
   "outputs": [],
   "source": [
    "id_vars = ['cod_empresa', 'cod_macrofamilia', 'macrofamilia', 'codfamila', 'familia',\n",
    "           'codsubfamilia', 'subfamilia', 'tipo_cliente', 'ventas_(€)', 'unidades']"
   ]
  },
  {
   "cell_type": "markdown",
   "id": "584eb1e1",
   "metadata": {},
   "source": [
    "-Convertir columnas de meses en filas"
   ]
  },
  {
   "cell_type": "code",
   "execution_count": 44,
   "id": "9f7b9096",
   "metadata": {},
   "outputs": [],
   "source": [
    "df3 = df3.melt(\n",
    "    id_vars=id_vars,\n",
    "    value_vars=['enero', 'febrero', 'marzo', 'abril', 'mayo', 'junio',\n",
    "                'julio', 'agosto', 'septiembre', 'octubre', 'noviembre', 'diciembre'],\n",
    "    var_name='mes',\n",
    "    value_name='presupuesto_mes'\n",
    ")"
   ]
  },
  {
   "cell_type": "markdown",
   "id": "7ebc9d3a",
   "metadata": {},
   "source": [
    "-Diccionario para convertir nombre de mes a número"
   ]
  },
  {
   "cell_type": "code",
   "execution_count": 45,
   "id": "f4a771b7",
   "metadata": {},
   "outputs": [],
   "source": [
    "meses = {\n",
    "    'enero': 1, 'febrero': 2, 'marzo': 3, 'abril': 4,\n",
    "    'mayo': 5, 'junio': 6, 'julio': 7, 'agosto': 8,\n",
    "    'septiembre': 9, 'octubre': 10, 'noviembre': 11, 'diciembre': 12\n",
    "}"
   ]
  },
  {
   "cell_type": "markdown",
   "id": "ea804670",
   "metadata": {},
   "source": [
    "-Crear columnas de mes numérico y month_name\n"
   ]
  },
  {
   "cell_type": "code",
   "execution_count": 46,
   "id": "5b6e8c38",
   "metadata": {},
   "outputs": [],
   "source": [
    "df3['month'] = df3['mes'].map(meses)\n",
    "df3['year'] = 2024  # Ajusta si tu dataset corresponde a otro año\n",
    "df3['month_name'] = df3['year'].astype(str) + '-' + df3['month'].astype(str).str.zfill(2)\n"
   ]
  },
  {
   "cell_type": "code",
   "execution_count": 47,
   "id": "2465d089",
   "metadata": {},
   "outputs": [
    {
     "name": "stdout",
     "output_type": "stream",
     "text": [
      "<class 'pandas.core.frame.DataFrame'>\n",
      "RangeIndex: 6060 entries, 0 to 6059\n",
      "Data columns (total 15 columns):\n",
      " #   Column            Non-Null Count  Dtype  \n",
      "---  ------            --------------  -----  \n",
      " 0   cod_empresa       6060 non-null   int64  \n",
      " 1   cod_macrofamilia  6060 non-null   object \n",
      " 2   macrofamilia      6060 non-null   object \n",
      " 3   codfamila         6060 non-null   object \n",
      " 4   familia           6060 non-null   object \n",
      " 5   codsubfamilia     6060 non-null   object \n",
      " 6   subfamilia        6060 non-null   object \n",
      " 7   tipo_cliente      6060 non-null   int64  \n",
      " 8   ventas_(€)        6060 non-null   float64\n",
      " 9   unidades          6060 non-null   float64\n",
      " 10  mes               6060 non-null   object \n",
      " 11  presupuesto_mes   6060 non-null   float64\n",
      " 12  month             6060 non-null   int64  \n",
      " 13  year              6060 non-null   int64  \n",
      " 14  month_name        6060 non-null   object \n",
      "dtypes: float64(3), int64(4), object(8)\n",
      "memory usage: 710.3+ KB\n"
     ]
    }
   ],
   "source": [
    "df3.head()\n",
    "df3.info()"
   ]
  },
  {
   "cell_type": "markdown",
   "id": "32454873",
   "metadata": {},
   "source": [
    "## Estadísticas descriptivas"
   ]
  },
  {
   "cell_type": "code",
   "execution_count": 48,
   "id": "c494bc2f",
   "metadata": {},
   "outputs": [],
   "source": [
    "import matplotlib.pyplot as plt\n"
   ]
  },
  {
   "cell_type": "code",
   "execution_count": 49,
   "id": "be18b8ca",
   "metadata": {},
   "outputs": [
    {
     "name": "stdout",
     "output_type": "stream",
     "text": [
      "Variables numéricas:\n",
      "         ventas_(€)       unidades  presupuesto_mes\n",
      "count  6.060000e+03    6060.000000      6060.000000\n",
      "mean   5.522639e+04    5855.006275         0.083333\n",
      "std    1.829499e+05   35142.936713         0.051713\n",
      "min   -5.888515e+04      -1.052632         0.000000\n",
      "25%    1.700000e+02       2.355818         0.056983\n",
      "50%    3.733600e+03      66.624188         0.081466\n",
      "75%    2.555789e+04     998.400000         0.091994\n",
      "max    1.940474e+06  486098.554117         0.742626\n",
      "\n",
      "Variables categóricas:\n",
      "            macrofamilia          familia        subfamilia\n",
      "count               6060             6060              6060\n",
      "unique                18               54               267\n",
      "top     Maquinaria y SAT  Consumibles SAT  MATERIAL DIVERSO\n",
      "freq                1260              888                72\n"
     ]
    }
   ],
   "source": [
    "print(\"Variables numéricas:\")\n",
    "print(df3[['ventas_(€)', 'unidades', 'presupuesto_mes']].describe())\n",
    "\n",
    "print(\"\\nVariables categóricas:\")\n",
    "print(df3[['macrofamilia', 'familia', 'subfamilia', 'tipo_cliente']].describe(include='object'))\n"
   ]
  },
  {
   "cell_type": "markdown",
   "id": "ceea07b1",
   "metadata": {},
   "source": [
    "##  Histogramas"
   ]
  },
  {
   "cell_type": "code",
   "execution_count": 50,
   "id": "527f80d0",
   "metadata": {},
   "outputs": [
    {
     "data": {
      "image/png": "[encoded data removed]",
      "text/plain": [
       "<Figure size 640x480 with 1 Axes>"
      ]
     },
     "metadata": {},
     "output_type": "display_data"
    },
    {
     "data": {
      "image/png": "[encoded data removed]",
      "text/plain": [
       "<Figure size 640x480 with 1 Axes>"
      ]
     },
     "metadata": {},
     "output_type": "display_data"
    }
   ],
   "source": [
    "df3['ventas_(€)'].hist(bins=30)\n",
    "plt.title('Distribución de ventas')\n",
    "plt.xlabel('Ventas (€)')\n",
    "plt.ylabel('Frecuencia')\n",
    "plt.show()\n",
    "\n",
    "df3['presupuesto_mes'].hist(bins=30)\n",
    "plt.title('Distribución del presupuesto')\n",
    "plt.xlabel('Presupuesto (€)')\n",
    "plt.ylabel('Frecuencia')\n",
    "plt.show()"
   ]
  },
  {
   "cell_type": "markdown",
   "id": "854ad441",
   "metadata": {},
   "source": [
    "## Boxplots"
   ]
  },
  {
   "cell_type": "code",
   "execution_count": 51,
   "id": "6d675401",
   "metadata": {},
   "outputs": [
    {
     "data": {
      "image/png": "[encoded data removed]",
      "text/plain": [
       "<Figure size 640x480 with 1 Axes>"
      ]
     },
     "metadata": {},
     "output_type": "display_data"
    },
    {
     "data": {
      "image/png": "[encoded data removed]",
      "text/plain": [
       "<Figure size 640x480 with 1 Axes>"
      ]
     },
     "metadata": {},
     "output_type": "display_data"
    }
   ],
   "source": [
    "df3.boxplot(column=['ventas_(€)'])\n",
    "plt.title('Boxplot de ventas')\n",
    "plt.show()\n",
    "\n",
    "df3.boxplot(column=['presupuesto_mes'])\n",
    "plt.title('Boxplot de presupuesto')\n",
    "plt.show()"
   ]
  },
  {
   "cell_type": "markdown",
   "id": "b8f0fd53",
   "metadata": {},
   "source": [
    "## Guardar cambios realizados"
   ]
  },
  {
   "cell_type": "code",
   "execution_count": 52,
   "id": "494417fe",
   "metadata": {},
   "outputs": [],
   "source": [
    "df3.to_excel(\"C:/Users/smp/OneDrive - Grupo JJChicolino/THE POWER/PROYECTOFINALEDA/data/output/presupuesto2024_limpio.xlsx\", index=False)"
   ]
  }
 ],
 "metadata": {
  "kernelspec": {
   "display_name": "Python 3",
   "language": "python",
   "name": "python3"
  },
  "language_info": {
   "codemirror_mode": {
    "name": "ipython",
    "version": 3
   },
   "file_extension": ".py",
   "mimetype": "text/x-python",
   "name": "python",
   "nbconvert_exporter": "python",
   "pygments_lexer": "ipython3",
   "version": "3.13.2"
  }
 },
 "nbformat": 4,
 "nbformat_minor": 5
}
