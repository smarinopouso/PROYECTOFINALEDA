{
 "cells": [
  {
   "cell_type": "code",
   "execution_count": 116,
   "id": "db614c78",
   "metadata": {},
   "outputs": [],
   "source": [
    "import pandas as pd"
   ]
  },
  {
   "cell_type": "code",
   "execution_count": 117,
   "id": "fa981d8a",
   "metadata": {},
   "outputs": [],
   "source": [
    "df3 = pd.read_excel(r\"C:/Users/smp/OneDrive - Grupo JJChicolino/THE POWER/PROYECTOFINALEDA/data/raw/presupuesto2024.xlsx\")\n"
   ]
  },
  {
   "cell_type": "code",
   "execution_count": 118,
   "id": "ce2042a0",
   "metadata": {},
   "outputs": [
    {
     "data": {
      "application/vnd.microsoft.datawrangler.viewer.v0+json": {
       "columns": [
        {
         "name": "index",
         "rawType": "int64",
         "type": "integer"
        },
        {
         "name": "Cod. Empresa",
         "rawType": "int64",
         "type": "integer"
        },
        {
         "name": "Cod. Macrofamilia",
         "rawType": "object",
         "type": "string"
        },
        {
         "name": "Macrofamilia",
         "rawType": "object",
         "type": "string"
        },
        {
         "name": "Cod.Famila",
         "rawType": "object",
         "type": "string"
        },
        {
         "name": "Familia",
         "rawType": "object",
         "type": "string"
        },
        {
         "name": "Cod.Subfamilia",
         "rawType": "object",
         "type": "string"
        },
        {
         "name": "Subfamilia",
         "rawType": "object",
         "type": "string"
        },
        {
         "name": "Tipo Cliente",
         "rawType": "int64",
         "type": "integer"
        },
        {
         "name": "Ventas (€)",
         "rawType": "float64",
         "type": "float"
        },
        {
         "name": "Margen (€)",
         "rawType": "float64",
         "type": "float"
        },
        {
         "name": "Unidades",
         "rawType": "float64",
         "type": "float"
        },
        {
         "name": "mes",
         "rawType": "float64",
         "type": "float"
        },
        {
         "name": "% Margen",
         "rawType": "float64",
         "type": "float"
        },
        {
         "name": "Enero",
         "rawType": "float64",
         "type": "float"
        },
        {
         "name": "Febrero",
         "rawType": "float64",
         "type": "float"
        },
        {
         "name": "Marzo",
         "rawType": "float64",
         "type": "float"
        },
        {
         "name": "Abril",
         "rawType": "float64",
         "type": "float"
        },
        {
         "name": "Mayo",
         "rawType": "float64",
         "type": "float"
        },
        {
         "name": "Junio",
         "rawType": "float64",
         "type": "float"
        },
        {
         "name": "Julio",
         "rawType": "float64",
         "type": "float"
        },
        {
         "name": "Agosto",
         "rawType": "float64",
         "type": "float"
        },
        {
         "name": "Septiembre",
         "rawType": "float64",
         "type": "float"
        },
        {
         "name": "Octubre",
         "rawType": "float64",
         "type": "float"
        },
        {
         "name": "Noviembre",
         "rawType": "float64",
         "type": "float"
        },
        {
         "name": "Diciembre",
         "rawType": "float64",
         "type": "float"
        }
       ],
       "ref": "9d597bfb-3a12-41ca-b13d-6e427e9c2e57",
       "rows": [
        [
         "143",
         "1",
         "MF6",
         "Envases y Embalajes",
         "F34",
         "Sacos y Mallas Tejidas",
         "070",
         "SACOS TEJIDOS Y BIG-BAGS",
         "10",
         "1502.74736842105",
         null,
         "83.15789473684194",
         null,
         null,
         "0.0521588934114375",
         "0.06542292391710593",
         "0.06953756518074733",
         "0.08865764671131697",
         "0.034062287449831544",
         "0.043516265901162365",
         "0.046093991649153086",
         "0.10419015726596179",
         "0.09932276900599754",
         "0.11558930929440302",
         "0.07131407470058185",
         "0.21013411551230113"
        ],
        [
         "188",
         "5",
         "MF8",
         "Maquinaria y SAT",
         "F35",
         "Consumibles SAT",
         "ECB",
         "REPUESTOS ECONOMY BAG",
         "10",
         "457.84963636363636",
         null,
         "10.076004486474929",
         null,
         null,
         "0.007371423965281297",
         "0.015430884561610595",
         "0.1477470182145329",
         "0.001905859614955207",
         "0.01753390845758791",
         "0.007849695590580217",
         "0.0028846394386006524",
         "0.03767246083815203",
         "0.0034488924796836477",
         "0.004646146633521819",
         "0.010883505373375223",
         "0.7426255648321185"
        ],
        [
         "148",
         "1",
         "MF9",
         "Reciclaje y valorización de Residuos",
         "F4",
         "Chatarra y Residuos",
         "170",
         "FAMILIA RESIDUOS INTERNOS",
         "11",
         "0.0",
         null,
         "0.0",
         null,
         null,
         "0.08333333333333333",
         "0.08333333333333333",
         "0.08333333333333333",
         "0.08333333333333333",
         "0.08333333333333333",
         "0.08333333333333333",
         "0.08333333333333333",
         "0.08333333333333333",
         "0.08333333333333333",
         "0.08333333333333333",
         "0.08333333333333333",
         "0.08333333333333333"
        ],
        [
         "448",
         "21",
         "MFR04",
         "Marine",
         "FR04A",
         "Acuicultura y pesca",
         "AP5",
         "ACUICULTURA \"BRAQUETS\"",
         "10",
         "0.0",
         null,
         "0.0",
         null,
         null,
         "0.06515081049250475",
         "0.08634361575763516",
         "0.08927423897796569",
         "0.07610750474347883",
         "0.07817493409556704",
         "0.12151794479558681",
         "0.044120124235281694",
         "0.09952587801735968",
         "0.09255466989740213",
         "0.08089961021816866",
         "0.10625346769189745",
         "0.06007720107715194"
        ],
        [
         "280",
         "5",
         "MF6",
         "Envases y Embalajes",
         "F15",
         "Envases Plasticos Rigidos",
         "151",
         "ENVASES ESPECIALES: CAJA DEPURACION",
         "10",
         "6232.8",
         null,
         "1272.0",
         null,
         null,
         "0.061534558556047884",
         "0.07481633474475907",
         "0.07343287532906426",
         "0.056095824887503275",
         "0.07454932799279149",
         "0.07798322286773739",
         "0.0812643245364311",
         "0.0711446382814295",
         "0.08064003296272824",
         "0.08646531208698825",
         "0.12839230594541692",
         "0.13368124180910265"
        ]
       ],
       "shape": {
        "columns": 25,
        "rows": 5
       }
      },
      "text/html": [
       "<div>\n",
       "<style scoped>\n",
       "    .dataframe tbody tr th:only-of-type {\n",
       "        vertical-align: middle;\n",
       "    }\n",
       "\n",
       "    .dataframe tbody tr th {\n",
       "        vertical-align: top;\n",
       "    }\n",
       "\n",
       "    .dataframe thead th {\n",
       "        text-align: right;\n",
       "    }\n",
       "</style>\n",
       "<table border=\"1\" class=\"dataframe\">\n",
       "  <thead>\n",
       "    <tr style=\"text-align: right;\">\n",
       "      <th></th>\n",
       "      <th>Cod. Empresa</th>\n",
       "      <th>Cod. Macrofamilia</th>\n",
       "      <th>Macrofamilia</th>\n",
       "      <th>Cod.Famila</th>\n",
       "      <th>Familia</th>\n",
       "      <th>Cod.Subfamilia</th>\n",
       "      <th>Subfamilia</th>\n",
       "      <th>Tipo Cliente</th>\n",
       "      <th>Ventas (€)</th>\n",
       "      <th>Margen (€)</th>\n",
       "      <th>...</th>\n",
       "      <th>Marzo</th>\n",
       "      <th>Abril</th>\n",
       "      <th>Mayo</th>\n",
       "      <th>Junio</th>\n",
       "      <th>Julio</th>\n",
       "      <th>Agosto</th>\n",
       "      <th>Septiembre</th>\n",
       "      <th>Octubre</th>\n",
       "      <th>Noviembre</th>\n",
       "      <th>Diciembre</th>\n",
       "    </tr>\n",
       "  </thead>\n",
       "  <tbody>\n",
       "    <tr>\n",
       "      <th>143</th>\n",
       "      <td>1</td>\n",
       "      <td>MF6</td>\n",
       "      <td>Envases y Embalajes</td>\n",
       "      <td>F34</td>\n",
       "      <td>Sacos y Mallas Tejidas</td>\n",
       "      <td>070</td>\n",
       "      <td>SACOS TEJIDOS Y BIG-BAGS</td>\n",
       "      <td>10</td>\n",
       "      <td>1502.747368</td>\n",
       "      <td>NaN</td>\n",
       "      <td>...</td>\n",
       "      <td>0.069538</td>\n",
       "      <td>0.088658</td>\n",
       "      <td>0.034062</td>\n",
       "      <td>0.043516</td>\n",
       "      <td>0.046094</td>\n",
       "      <td>0.104190</td>\n",
       "      <td>0.099323</td>\n",
       "      <td>0.115589</td>\n",
       "      <td>0.071314</td>\n",
       "      <td>0.210134</td>\n",
       "    </tr>\n",
       "    <tr>\n",
       "      <th>188</th>\n",
       "      <td>5</td>\n",
       "      <td>MF8</td>\n",
       "      <td>Maquinaria y SAT</td>\n",
       "      <td>F35</td>\n",
       "      <td>Consumibles SAT</td>\n",
       "      <td>ECB</td>\n",
       "      <td>REPUESTOS ECONOMY BAG</td>\n",
       "      <td>10</td>\n",
       "      <td>457.849636</td>\n",
       "      <td>NaN</td>\n",
       "      <td>...</td>\n",
       "      <td>0.147747</td>\n",
       "      <td>0.001906</td>\n",
       "      <td>0.017534</td>\n",
       "      <td>0.007850</td>\n",
       "      <td>0.002885</td>\n",
       "      <td>0.037672</td>\n",
       "      <td>0.003449</td>\n",
       "      <td>0.004646</td>\n",
       "      <td>0.010884</td>\n",
       "      <td>0.742626</td>\n",
       "    </tr>\n",
       "    <tr>\n",
       "      <th>148</th>\n",
       "      <td>1</td>\n",
       "      <td>MF9</td>\n",
       "      <td>Reciclaje y valorización de Residuos</td>\n",
       "      <td>F4</td>\n",
       "      <td>Chatarra y Residuos</td>\n",
       "      <td>170</td>\n",
       "      <td>FAMILIA RESIDUOS INTERNOS</td>\n",
       "      <td>11</td>\n",
       "      <td>0.000000</td>\n",
       "      <td>NaN</td>\n",
       "      <td>...</td>\n",
       "      <td>0.083333</td>\n",
       "      <td>0.083333</td>\n",
       "      <td>0.083333</td>\n",
       "      <td>0.083333</td>\n",
       "      <td>0.083333</td>\n",
       "      <td>0.083333</td>\n",
       "      <td>0.083333</td>\n",
       "      <td>0.083333</td>\n",
       "      <td>0.083333</td>\n",
       "      <td>0.083333</td>\n",
       "    </tr>\n",
       "    <tr>\n",
       "      <th>448</th>\n",
       "      <td>21</td>\n",
       "      <td>MFR04</td>\n",
       "      <td>Marine</td>\n",
       "      <td>FR04A</td>\n",
       "      <td>Acuicultura y pesca</td>\n",
       "      <td>AP5</td>\n",
       "      <td>ACUICULTURA \"BRAQUETS\"</td>\n",
       "      <td>10</td>\n",
       "      <td>0.000000</td>\n",
       "      <td>NaN</td>\n",
       "      <td>...</td>\n",
       "      <td>0.089274</td>\n",
       "      <td>0.076108</td>\n",
       "      <td>0.078175</td>\n",
       "      <td>0.121518</td>\n",
       "      <td>0.044120</td>\n",
       "      <td>0.099526</td>\n",
       "      <td>0.092555</td>\n",
       "      <td>0.080900</td>\n",
       "      <td>0.106253</td>\n",
       "      <td>0.060077</td>\n",
       "    </tr>\n",
       "    <tr>\n",
       "      <th>280</th>\n",
       "      <td>5</td>\n",
       "      <td>MF6</td>\n",
       "      <td>Envases y Embalajes</td>\n",
       "      <td>F15</td>\n",
       "      <td>Envases Plasticos Rigidos</td>\n",
       "      <td>151</td>\n",
       "      <td>ENVASES ESPECIALES: CAJA DEPURACION</td>\n",
       "      <td>10</td>\n",
       "      <td>6232.800000</td>\n",
       "      <td>NaN</td>\n",
       "      <td>...</td>\n",
       "      <td>0.073433</td>\n",
       "      <td>0.056096</td>\n",
       "      <td>0.074549</td>\n",
       "      <td>0.077983</td>\n",
       "      <td>0.081264</td>\n",
       "      <td>0.071145</td>\n",
       "      <td>0.080640</td>\n",
       "      <td>0.086465</td>\n",
       "      <td>0.128392</td>\n",
       "      <td>0.133681</td>\n",
       "    </tr>\n",
       "  </tbody>\n",
       "</table>\n",
       "<p>5 rows × 25 columns</p>\n",
       "</div>"
      ],
      "text/plain": [
       "     Cod. Empresa Cod. Macrofamilia                          Macrofamilia  \\\n",
       "143             1               MF6                   Envases y Embalajes   \n",
       "188             5               MF8                      Maquinaria y SAT   \n",
       "148             1               MF9  Reciclaje y valorización de Residuos   \n",
       "448            21             MFR04                                Marine   \n",
       "280             5               MF6                   Envases y Embalajes   \n",
       "\n",
       "    Cod.Famila                    Familia Cod.Subfamilia  \\\n",
       "143        F34     Sacos y Mallas Tejidas            070   \n",
       "188        F35            Consumibles SAT            ECB   \n",
       "148         F4        Chatarra y Residuos            170   \n",
       "448      FR04A        Acuicultura y pesca            AP5   \n",
       "280        F15  Envases Plasticos Rigidos            151   \n",
       "\n",
       "                              Subfamilia  Tipo Cliente   Ventas (€)  \\\n",
       "143             SACOS TEJIDOS Y BIG-BAGS            10  1502.747368   \n",
       "188                REPUESTOS ECONOMY BAG            10   457.849636   \n",
       "148            FAMILIA RESIDUOS INTERNOS            11     0.000000   \n",
       "448               ACUICULTURA \"BRAQUETS\"            10     0.000000   \n",
       "280  ENVASES ESPECIALES: CAJA DEPURACION            10  6232.800000   \n",
       "\n",
       "     Margen (€)  ...     Marzo     Abril      Mayo     Junio     Julio  \\\n",
       "143         NaN  ...  0.069538  0.088658  0.034062  0.043516  0.046094   \n",
       "188         NaN  ...  0.147747  0.001906  0.017534  0.007850  0.002885   \n",
       "148         NaN  ...  0.083333  0.083333  0.083333  0.083333  0.083333   \n",
       "448         NaN  ...  0.089274  0.076108  0.078175  0.121518  0.044120   \n",
       "280         NaN  ...  0.073433  0.056096  0.074549  0.077983  0.081264   \n",
       "\n",
       "       Agosto  Septiembre   Octubre  Noviembre  Diciembre  \n",
       "143  0.104190    0.099323  0.115589   0.071314   0.210134  \n",
       "188  0.037672    0.003449  0.004646   0.010884   0.742626  \n",
       "148  0.083333    0.083333  0.083333   0.083333   0.083333  \n",
       "448  0.099526    0.092555  0.080900   0.106253   0.060077  \n",
       "280  0.071145    0.080640  0.086465   0.128392   0.133681  \n",
       "\n",
       "[5 rows x 25 columns]"
      ]
     },
     "execution_count": 118,
     "metadata": {},
     "output_type": "execute_result"
    }
   ],
   "source": [
    "df3.sample(5)"
   ]
  },
  {
   "cell_type": "code",
   "execution_count": 119,
   "id": "e3f97501",
   "metadata": {},
   "outputs": [
    {
     "name": "stdout",
     "output_type": "stream",
     "text": [
      "<class 'pandas.core.frame.DataFrame'>\n",
      "RangeIndex: 505 entries, 0 to 504\n",
      "Data columns (total 25 columns):\n",
      " #   Column             Non-Null Count  Dtype  \n",
      "---  ------             --------------  -----  \n",
      " 0   Cod. Empresa       505 non-null    int64  \n",
      " 1   Cod. Macrofamilia  505 non-null    object \n",
      " 2   Macrofamilia       505 non-null    object \n",
      " 3   Cod.Famila         505 non-null    object \n",
      " 4   Familia            505 non-null    object \n",
      " 5   Cod.Subfamilia     505 non-null    object \n",
      " 6   Subfamilia         505 non-null    object \n",
      " 7   Tipo Cliente       505 non-null    int64  \n",
      " 8   Ventas (€)         505 non-null    float64\n",
      " 9   Margen (€)         0 non-null      float64\n",
      " 10  Unidades           505 non-null    float64\n",
      " 11  mes                0 non-null      float64\n",
      " 12  % Margen           0 non-null      float64\n",
      " 13  Enero              505 non-null    float64\n",
      " 14  Febrero            505 non-null    float64\n",
      " 15  Marzo              505 non-null    float64\n",
      " 16  Abril              505 non-null    float64\n",
      " 17  Mayo               505 non-null    float64\n",
      " 18  Junio              505 non-null    float64\n",
      " 19  Julio              505 non-null    float64\n",
      " 20  Agosto             505 non-null    float64\n",
      " 21  Septiembre         505 non-null    float64\n",
      " 22  Octubre            505 non-null    float64\n",
      " 23  Noviembre          505 non-null    float64\n",
      " 24  Diciembre          505 non-null    float64\n",
      "dtypes: float64(17), int64(2), object(6)\n",
      "memory usage: 98.8+ KB\n"
     ]
    }
   ],
   "source": [
    "df3.info()"
   ]
  },
  {
   "cell_type": "markdown",
   "id": "faa4005a",
   "metadata": {},
   "source": [
    "## Limpiar y homogeneizar los nombres de columnas"
   ]
  },
  {
   "cell_type": "code",
   "execution_count": 120,
   "id": "b58cfab2",
   "metadata": {},
   "outputs": [
    {
     "data": {
      "text/plain": [
       "Index(['cod_empresa', 'cod_macrofamilia', 'macrofamilia', 'codfamila',\n",
       "       'familia', 'codsubfamilia', 'subfamilia', 'tipo_cliente', 'ventas_(€)',\n",
       "       'margen_(€)', 'unidades', 'mes', '%_margen', 'enero', 'febrero',\n",
       "       'marzo', 'abril', 'mayo', 'junio', 'julio', 'agosto', 'septiembre',\n",
       "       'octubre', 'noviembre', 'diciembre'],\n",
       "      dtype='object')"
      ]
     },
     "execution_count": 120,
     "metadata": {},
     "output_type": "execute_result"
    }
   ],
   "source": [
    "df3.columns = df3.columns.str.strip().str.lower().str.replace(' ', '_').str.replace('.', '')\n",
    "df3.columns"
   ]
  },
  {
   "cell_type": "markdown",
   "id": "b1cf5166",
   "metadata": {},
   "source": [
    "## Transformar columnas de meses en filas (de formato ancho a largo)\n",
    "\n",
    "\n"
   ]
  },
  {
   "cell_type": "markdown",
   "id": "584eb1e1",
   "metadata": {},
   "source": [
    "-Convertir columnas de meses en filas"
   ]
  },
  {
   "cell_type": "code",
   "execution_count": 127,
   "id": "d082eb9c",
   "metadata": {},
   "outputs": [
    {
     "name": "stdout",
     "output_type": "stream",
     "text": [
      "['cod_empresa', 'cod_macrofamilia', 'macrofamilia', 'codfamila', 'familia', 'codsubfamilia', 'subfamilia', 'tipo_cliente', 'ventas_(€)', 'margen_(€)', 'unidades', 'mes', '%_margen', 'enero', 'febrero', 'marzo', 'abril', 'mayo', 'junio', 'julio', 'agosto', 'septiembre', 'octubre', 'noviembre', 'diciembre']\n"
     ]
    }
   ],
   "source": [
    "print(df3.columns.tolist())"
   ]
  },
  {
   "cell_type": "code",
   "execution_count": 130,
   "id": "926de54e",
   "metadata": {},
   "outputs": [],
   "source": [
    "id_vars = [\n",
    "    'cod_empresa', 'cod_macrofamilia', 'macrofamilia', 'codfamila', 'familia',\n",
    "    'codsubfamilia', 'subfamilia', 'tipo_cliente', 'ventas_(€)', 'margen_(€)',\n",
    "    'unidades', 'mes', '%_margen'\n",
    "]"
   ]
  },
  {
   "cell_type": "code",
   "execution_count": 131,
   "id": "8f51d8ac",
   "metadata": {},
   "outputs": [],
   "source": [
    "value_vars = [\n",
    "    'enero', 'febrero', 'marzo', 'abril', 'mayo', 'junio', \n",
    "    'julio', 'agosto', 'septiembre', 'octubre', 'noviembre', 'diciembre'\n",
    "]"
   ]
  },
  {
   "cell_type": "code",
   "execution_count": 132,
   "id": "37126cdc",
   "metadata": {},
   "outputs": [],
   "source": [
    "df3 = df3.melt(\n",
    "    id_vars=id_vars,\n",
    "    value_vars=value_vars,\n",
    "    var_name='mes',\n",
    "    value_name='presupuesto_mes'\n",
    ")"
   ]
  },
  {
   "cell_type": "code",
   "execution_count": 133,
   "id": "07264a04",
   "metadata": {},
   "outputs": [],
   "source": [
    "df3_melted['mes'] = df3_melted['mes'].str.lower()"
   ]
  },
  {
   "cell_type": "code",
   "execution_count": 134,
   "id": "2465d089",
   "metadata": {},
   "outputs": [
    {
     "name": "stdout",
     "output_type": "stream",
     "text": [
      "<class 'pandas.core.frame.DataFrame'>\n",
      "RangeIndex: 6060 entries, 0 to 6059\n",
      "Data columns (total 15 columns):\n",
      " #   Column            Non-Null Count  Dtype  \n",
      "---  ------            --------------  -----  \n",
      " 0   cod_empresa       6060 non-null   int64  \n",
      " 1   cod_macrofamilia  6060 non-null   object \n",
      " 2   macrofamilia      6060 non-null   object \n",
      " 3   codfamila         6060 non-null   object \n",
      " 4   familia           6060 non-null   object \n",
      " 5   codsubfamilia     6060 non-null   object \n",
      " 6   subfamilia        6060 non-null   object \n",
      " 7   tipo_cliente      6060 non-null   int64  \n",
      " 8   ventas_(€)        6060 non-null   float64\n",
      " 9   margen_(€)        0 non-null      float64\n",
      " 10  unidades          6060 non-null   float64\n",
      " 11  mes               6060 non-null   object \n",
      " 12  %_margen          0 non-null      float64\n",
      " 13  mes               6060 non-null   object \n",
      " 14  presupuesto_mes   6060 non-null   float64\n",
      "dtypes: float64(5), int64(2), object(8)\n",
      "memory usage: 710.3+ KB\n"
     ]
    }
   ],
   "source": [
    "df3.head()\n",
    "df3.info()"
   ]
  },
  {
   "cell_type": "markdown",
   "id": "ceea07b1",
   "metadata": {},
   "source": [
    "## Histograma "
   ]
  },
  {
   "cell_type": "code",
   "execution_count": 141,
   "id": "99bf71d2",
   "metadata": {},
   "outputs": [],
   "source": [
    "import matplotlib.pyplot as plt"
   ]
  },
  {
   "cell_type": "code",
   "execution_count": 142,
   "id": "527f80d0",
   "metadata": {},
   "outputs": [
    {
     "data": {
      "image/png": "[encoded data removed]",
      "text/plain": [
       "<Figure size 640x480 with 1 Axes>"
      ]
     },
     "metadata": {},
     "output_type": "display_data"
    }
   ],
   "source": [
    "df3['presupuesto_mes'].hist(bins=30)\n",
    "plt.title('Distribución del presupuesto')\n",
    "plt.xlabel('Presupuesto (€)')\n",
    "plt.ylabel('Frecuencia')\n",
    "plt.show()"
   ]
  },
  {
   "cell_type": "markdown",
   "id": "854ad441",
   "metadata": {},
   "source": [
    "## Boxplots"
   ]
  },
  {
   "cell_type": "code",
   "execution_count": 143,
   "id": "6d675401",
   "metadata": {},
   "outputs": [
    {
     "data": {
      "image/png": "[encoded data removed]",
      "text/plain": [
       "<Figure size 640x480 with 1 Axes>"
      ]
     },
     "metadata": {},
     "output_type": "display_data"
    }
   ],
   "source": [
    "df3.boxplot(column=['presupuesto_mes'])\n",
    "plt.title('Boxplot de presupuesto')\n",
    "plt.show()"
   ]
  },
  {
   "cell_type": "markdown",
   "id": "b8f0fd53",
   "metadata": {},
   "source": [
    "## Guardar cambios realizados"
   ]
  },
  {
   "cell_type": "code",
   "execution_count": 137,
   "id": "494417fe",
   "metadata": {},
   "outputs": [],
   "source": [
    "df3.to_excel(\"C:/Users/smp/OneDrive - Grupo JJChicolino/THE POWER/PROYECTOFINALEDA/data/output/presupuesto2024_limpio.xlsx\", index=False)"
   ]
  }
 ],
 "metadata": {
  "kernelspec": {
   "display_name": "Python 3",
   "language": "python",
   "name": "python3"
  },
  "language_info": {
   "codemirror_mode": {
    "name": "ipython",
    "version": 3
   },
   "file_extension": ".py",
   "mimetype": "text/x-python",
   "name": "python",
   "nbconvert_exporter": "python",
   "pygments_lexer": "ipython3",
   "version": "3.13.2"
  }
 },
 "nbformat": 4,
 "nbformat_minor": 5
}
